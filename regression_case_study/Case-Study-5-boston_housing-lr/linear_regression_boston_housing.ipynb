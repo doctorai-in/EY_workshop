{
  "nbformat": 4,
  "nbformat_minor": 0,
  "metadata": {
    "kernelspec": {
      "display_name": "Python 3",
      "language": "python",
      "name": "python3"
    },
    "language_info": {
      "codemirror_mode": {
        "name": "ipython",
        "version": 3
      },
      "file_extension": ".py",
      "mimetype": "text/x-python",
      "name": "python",
      "nbconvert_exporter": "python",
      "pygments_lexer": "ipython3",
      "version": "3.6.5"
    },
    "colab": {
      "name": "linear_regression_boston_housing.ipynb",
      "provenance": [],
      "collapsed_sections": []
    }
  },
  "cells": [
    {
      "cell_type": "code",
      "metadata": {
        "id": "G0qBvhTlasYx",
        "colab": {
          "base_uri": "https://localhost:8080/"
        },
        "outputId": "2143058b-273c-4205-de33-019c8eacc0df"
      },
      "source": [
        "!wget https://raw.githubusercontent.com/doctorai-in/EY_workshop/main/datasets/BostonHousing.csv"
      ],
      "execution_count": null,
      "outputs": [
        {
          "output_type": "stream",
          "text": [
            "--2021-06-17 01:59:20--  https://raw.githubusercontent.com/doctorai-in/EY_workshop/main/datasets/BostonHousing.csv\n",
            "Resolving raw.githubusercontent.com (raw.githubusercontent.com)... 185.199.108.133, 185.199.109.133, 185.199.110.133, ...\n",
            "Connecting to raw.githubusercontent.com (raw.githubusercontent.com)|185.199.108.133|:443... connected.\n",
            "HTTP request sent, awaiting response... 200 OK\n",
            "Length: 35735 (35K) [text/plain]\n",
            "Saving to: ‘BostonHousing.csv’\n",
            "\n",
            "\rBostonHousing.csv     0%[                    ]       0  --.-KB/s               \rBostonHousing.csv   100%[===================>]  34.90K  --.-KB/s    in 0s      \n",
            "\n",
            "2021-06-17 01:59:20 (105 MB/s) - ‘BostonHousing.csv’ saved [35735/35735]\n",
            "\n"
          ],
          "name": "stdout"
        }
      ]
    },
    {
      "cell_type": "markdown",
      "metadata": {
        "id": "Owsxa6hcdm8-"
      },
      "source": [
        "Data Description\n",
        "* CRIM - per capita crime rate by town\n",
        "* ZN - proportion of residential land zoned for lots over 25,000 sq.ft.\n",
        "* INDUS - proportion of non-retail business acres per town.\n",
        "* CHAS - Charles River dummy variable (1 if tract bounds river; 0 otherwise)\n",
        "* NOX - nitric oxides concentration (parts per 10 million)\n",
        "* RM - average number of rooms per dwelling\n",
        "* AGE - proportion of owner-occupied units built prior to 1940\n",
        "* DIS - weighted distances to five Boston employment centres\n",
        "* RAD - index of accessibility to radial highways\n",
        "* TAX - full-value property-tax rate per $10,000\n",
        "* PTRATIO - pupil-teacher ratio by town\n",
        "\n",
        "* LSTAT - % lower status of the population\n",
        "* MEDV - Median value of owner-occupied homes in $1000's\n",
        "* B - 1000(Bk - 0.63)^2 where Bk is the proportion of blacks by town"
      ]
    },
    {
      "cell_type": "code",
      "metadata": {
        "collapsed": true,
        "id": "SvYOEFdzYPKV"
      },
      "source": [
        "# Import libraries necessary for this project\n",
        "import numpy as np\n",
        "import pandas as pd\n",
        "import matplotlib.pyplot as plt\n",
        "import seaborn as sns\n",
        "%matplotlib inline"
      ],
      "execution_count": null,
      "outputs": []
    },
    {
      "cell_type": "code",
      "metadata": {
        "collapsed": true,
        "id": "mCpznQVcYPKZ",
        "colab": {
          "base_uri": "https://localhost:8080/",
          "height": 419
        },
        "outputId": "7b61c771-2efa-460a-dc2c-d67b2aaebd58"
      },
      "source": [
        "bos1 = pd.read_csv('BostonHousing.csv')\n",
        "bos1"
      ],
      "execution_count": null,
      "outputs": [
        {
          "output_type": "execute_result",
          "data": {
            "text/html": [
              "<div>\n",
              "<style scoped>\n",
              "    .dataframe tbody tr th:only-of-type {\n",
              "        vertical-align: middle;\n",
              "    }\n",
              "\n",
              "    .dataframe tbody tr th {\n",
              "        vertical-align: top;\n",
              "    }\n",
              "\n",
              "    .dataframe thead th {\n",
              "        text-align: right;\n",
              "    }\n",
              "</style>\n",
              "<table border=\"1\" class=\"dataframe\">\n",
              "  <thead>\n",
              "    <tr style=\"text-align: right;\">\n",
              "      <th></th>\n",
              "      <th>crim</th>\n",
              "      <th>zn</th>\n",
              "      <th>indus</th>\n",
              "      <th>chas</th>\n",
              "      <th>nox</th>\n",
              "      <th>rm</th>\n",
              "      <th>age</th>\n",
              "      <th>dis</th>\n",
              "      <th>rad</th>\n",
              "      <th>tax</th>\n",
              "      <th>ptratio</th>\n",
              "      <th>b</th>\n",
              "      <th>lstat</th>\n",
              "      <th>medv</th>\n",
              "    </tr>\n",
              "  </thead>\n",
              "  <tbody>\n",
              "    <tr>\n",
              "      <th>0</th>\n",
              "      <td>0.00632</td>\n",
              "      <td>18.0</td>\n",
              "      <td>2.31</td>\n",
              "      <td>0</td>\n",
              "      <td>0.538</td>\n",
              "      <td>6.575</td>\n",
              "      <td>65.2</td>\n",
              "      <td>4.0900</td>\n",
              "      <td>1</td>\n",
              "      <td>296</td>\n",
              "      <td>15.3</td>\n",
              "      <td>396.90</td>\n",
              "      <td>4.98</td>\n",
              "      <td>24.0</td>\n",
              "    </tr>\n",
              "    <tr>\n",
              "      <th>1</th>\n",
              "      <td>0.02731</td>\n",
              "      <td>0.0</td>\n",
              "      <td>7.07</td>\n",
              "      <td>0</td>\n",
              "      <td>0.469</td>\n",
              "      <td>6.421</td>\n",
              "      <td>78.9</td>\n",
              "      <td>4.9671</td>\n",
              "      <td>2</td>\n",
              "      <td>242</td>\n",
              "      <td>17.8</td>\n",
              "      <td>396.90</td>\n",
              "      <td>9.14</td>\n",
              "      <td>21.6</td>\n",
              "    </tr>\n",
              "    <tr>\n",
              "      <th>2</th>\n",
              "      <td>0.02729</td>\n",
              "      <td>0.0</td>\n",
              "      <td>7.07</td>\n",
              "      <td>0</td>\n",
              "      <td>0.469</td>\n",
              "      <td>7.185</td>\n",
              "      <td>61.1</td>\n",
              "      <td>4.9671</td>\n",
              "      <td>2</td>\n",
              "      <td>242</td>\n",
              "      <td>17.8</td>\n",
              "      <td>392.83</td>\n",
              "      <td>4.03</td>\n",
              "      <td>34.7</td>\n",
              "    </tr>\n",
              "    <tr>\n",
              "      <th>3</th>\n",
              "      <td>0.03237</td>\n",
              "      <td>0.0</td>\n",
              "      <td>2.18</td>\n",
              "      <td>0</td>\n",
              "      <td>0.458</td>\n",
              "      <td>6.998</td>\n",
              "      <td>45.8</td>\n",
              "      <td>6.0622</td>\n",
              "      <td>3</td>\n",
              "      <td>222</td>\n",
              "      <td>18.7</td>\n",
              "      <td>394.63</td>\n",
              "      <td>2.94</td>\n",
              "      <td>33.4</td>\n",
              "    </tr>\n",
              "    <tr>\n",
              "      <th>4</th>\n",
              "      <td>0.06905</td>\n",
              "      <td>0.0</td>\n",
              "      <td>2.18</td>\n",
              "      <td>0</td>\n",
              "      <td>0.458</td>\n",
              "      <td>7.147</td>\n",
              "      <td>54.2</td>\n",
              "      <td>6.0622</td>\n",
              "      <td>3</td>\n",
              "      <td>222</td>\n",
              "      <td>18.7</td>\n",
              "      <td>396.90</td>\n",
              "      <td>5.33</td>\n",
              "      <td>36.2</td>\n",
              "    </tr>\n",
              "    <tr>\n",
              "      <th>...</th>\n",
              "      <td>...</td>\n",
              "      <td>...</td>\n",
              "      <td>...</td>\n",
              "      <td>...</td>\n",
              "      <td>...</td>\n",
              "      <td>...</td>\n",
              "      <td>...</td>\n",
              "      <td>...</td>\n",
              "      <td>...</td>\n",
              "      <td>...</td>\n",
              "      <td>...</td>\n",
              "      <td>...</td>\n",
              "      <td>...</td>\n",
              "      <td>...</td>\n",
              "    </tr>\n",
              "    <tr>\n",
              "      <th>501</th>\n",
              "      <td>0.06263</td>\n",
              "      <td>0.0</td>\n",
              "      <td>11.93</td>\n",
              "      <td>0</td>\n",
              "      <td>0.573</td>\n",
              "      <td>6.593</td>\n",
              "      <td>69.1</td>\n",
              "      <td>2.4786</td>\n",
              "      <td>1</td>\n",
              "      <td>273</td>\n",
              "      <td>21.0</td>\n",
              "      <td>391.99</td>\n",
              "      <td>9.67</td>\n",
              "      <td>22.4</td>\n",
              "    </tr>\n",
              "    <tr>\n",
              "      <th>502</th>\n",
              "      <td>0.04527</td>\n",
              "      <td>0.0</td>\n",
              "      <td>11.93</td>\n",
              "      <td>0</td>\n",
              "      <td>0.573</td>\n",
              "      <td>6.120</td>\n",
              "      <td>76.7</td>\n",
              "      <td>2.2875</td>\n",
              "      <td>1</td>\n",
              "      <td>273</td>\n",
              "      <td>21.0</td>\n",
              "      <td>396.90</td>\n",
              "      <td>9.08</td>\n",
              "      <td>20.6</td>\n",
              "    </tr>\n",
              "    <tr>\n",
              "      <th>503</th>\n",
              "      <td>0.06076</td>\n",
              "      <td>0.0</td>\n",
              "      <td>11.93</td>\n",
              "      <td>0</td>\n",
              "      <td>0.573</td>\n",
              "      <td>6.976</td>\n",
              "      <td>91.0</td>\n",
              "      <td>2.1675</td>\n",
              "      <td>1</td>\n",
              "      <td>273</td>\n",
              "      <td>21.0</td>\n",
              "      <td>396.90</td>\n",
              "      <td>5.64</td>\n",
              "      <td>23.9</td>\n",
              "    </tr>\n",
              "    <tr>\n",
              "      <th>504</th>\n",
              "      <td>0.10959</td>\n",
              "      <td>0.0</td>\n",
              "      <td>11.93</td>\n",
              "      <td>0</td>\n",
              "      <td>0.573</td>\n",
              "      <td>6.794</td>\n",
              "      <td>89.3</td>\n",
              "      <td>2.3889</td>\n",
              "      <td>1</td>\n",
              "      <td>273</td>\n",
              "      <td>21.0</td>\n",
              "      <td>393.45</td>\n",
              "      <td>6.48</td>\n",
              "      <td>22.0</td>\n",
              "    </tr>\n",
              "    <tr>\n",
              "      <th>505</th>\n",
              "      <td>0.04741</td>\n",
              "      <td>0.0</td>\n",
              "      <td>11.93</td>\n",
              "      <td>0</td>\n",
              "      <td>0.573</td>\n",
              "      <td>6.030</td>\n",
              "      <td>80.8</td>\n",
              "      <td>2.5050</td>\n",
              "      <td>1</td>\n",
              "      <td>273</td>\n",
              "      <td>21.0</td>\n",
              "      <td>396.90</td>\n",
              "      <td>7.88</td>\n",
              "      <td>11.9</td>\n",
              "    </tr>\n",
              "  </tbody>\n",
              "</table>\n",
              "<p>506 rows × 14 columns</p>\n",
              "</div>"
            ],
            "text/plain": [
              "        crim    zn  indus  chas    nox  ...  tax  ptratio       b  lstat  medv\n",
              "0    0.00632  18.0   2.31     0  0.538  ...  296     15.3  396.90   4.98  24.0\n",
              "1    0.02731   0.0   7.07     0  0.469  ...  242     17.8  396.90   9.14  21.6\n",
              "2    0.02729   0.0   7.07     0  0.469  ...  242     17.8  392.83   4.03  34.7\n",
              "3    0.03237   0.0   2.18     0  0.458  ...  222     18.7  394.63   2.94  33.4\n",
              "4    0.06905   0.0   2.18     0  0.458  ...  222     18.7  396.90   5.33  36.2\n",
              "..       ...   ...    ...   ...    ...  ...  ...      ...     ...    ...   ...\n",
              "501  0.06263   0.0  11.93     0  0.573  ...  273     21.0  391.99   9.67  22.4\n",
              "502  0.04527   0.0  11.93     0  0.573  ...  273     21.0  396.90   9.08  20.6\n",
              "503  0.06076   0.0  11.93     0  0.573  ...  273     21.0  396.90   5.64  23.9\n",
              "504  0.10959   0.0  11.93     0  0.573  ...  273     21.0  393.45   6.48  22.0\n",
              "505  0.04741   0.0  11.93     0  0.573  ...  273     21.0  396.90   7.88  11.9\n",
              "\n",
              "[506 rows x 14 columns]"
            ]
          },
          "metadata": {
            "tags": []
          },
          "execution_count": 4
        }
      ]
    },
    {
      "cell_type": "code",
      "metadata": {
        "id": "uP-YxemcYPKa",
        "colab": {
          "base_uri": "https://localhost:8080/"
        },
        "outputId": "00004228-71aa-4a55-ec00-cec1cbd993ad"
      },
      "source": [
        "bos1.shape"
      ],
      "execution_count": null,
      "outputs": [
        {
          "output_type": "execute_result",
          "data": {
            "text/plain": [
              "(506, 14)"
            ]
          },
          "metadata": {
            "tags": []
          },
          "execution_count": 5
        }
      ]
    },
    {
      "cell_type": "code",
      "metadata": {
        "id": "xiWpOHE8YPKb",
        "colab": {
          "base_uri": "https://localhost:8080/"
        },
        "outputId": "2bd8ce01-4d9e-41e7-834d-21ceb5e45507"
      },
      "source": [
        "# check the column names\n",
        "bos1.columns.values"
      ],
      "execution_count": null,
      "outputs": [
        {
          "output_type": "execute_result",
          "data": {
            "text/plain": [
              "array(['crim', 'zn', 'indus', 'chas', 'nox', 'rm', 'age', 'dis', 'rad',\n",
              "       'tax', 'ptratio', 'b', 'lstat', 'medv'], dtype=object)"
            ]
          },
          "metadata": {
            "tags": []
          },
          "execution_count": 6
        }
      ]
    },
    {
      "cell_type": "code",
      "metadata": {
        "id": "kYIEp2xAbDoT",
        "colab": {
          "base_uri": "https://localhost:8080/"
        },
        "outputId": "67af98da-9f44-414a-ea3c-bb0c1e580c4e"
      },
      "source": [
        "bos1.dtypes"
      ],
      "execution_count": null,
      "outputs": [
        {
          "output_type": "execute_result",
          "data": {
            "text/plain": [
              "crim       float64\n",
              "zn         float64\n",
              "indus      float64\n",
              "chas         int64\n",
              "nox        float64\n",
              "rm         float64\n",
              "age        float64\n",
              "dis        float64\n",
              "rad          int64\n",
              "tax          int64\n",
              "ptratio    float64\n",
              "b          float64\n",
              "lstat      float64\n",
              "medv       float64\n",
              "dtype: object"
            ]
          },
          "metadata": {
            "tags": []
          },
          "execution_count": 7
        }
      ]
    },
    {
      "cell_type": "code",
      "metadata": {
        "id": "Lava4L5rbKZz",
        "colab": {
          "base_uri": "https://localhost:8080/"
        },
        "outputId": "6d68fadf-1218-48ca-d89a-7c4bbfe952c4"
      },
      "source": [
        "bos1.shape"
      ],
      "execution_count": null,
      "outputs": [
        {
          "output_type": "execute_result",
          "data": {
            "text/plain": [
              "(506, 14)"
            ]
          },
          "metadata": {
            "tags": []
          },
          "execution_count": 11
        }
      ]
    },
    {
      "cell_type": "markdown",
      "metadata": {
        "id": "jLuTfGW9cD4s"
      },
      "source": [
        "# Check null or missing values in data"
      ]
    },
    {
      "cell_type": "code",
      "metadata": {
        "id": "9EkLglakb_xE"
      },
      "source": [
        "bos1.isna()"
      ],
      "execution_count": null,
      "outputs": []
    },
    {
      "cell_type": "code",
      "metadata": {
        "id": "mp4OdYAqcPPu",
        "colab": {
          "base_uri": "https://localhost:8080/"
        },
        "outputId": "1a6acc37-a62d-4582-e00d-414f654c072b"
      },
      "source": [
        "bos1.isna().sum()"
      ],
      "execution_count": null,
      "outputs": [
        {
          "output_type": "execute_result",
          "data": {
            "text/plain": [
              "crim       0\n",
              "zn         0\n",
              "indus      0\n",
              "chas       0\n",
              "nox        0\n",
              "rm         0\n",
              "age        0\n",
              "dis        0\n",
              "rad        0\n",
              "tax        0\n",
              "ptratio    0\n",
              "b          0\n",
              "lstat      0\n",
              "medv       0\n",
              "dtype: int64"
            ]
          },
          "metadata": {
            "tags": []
          },
          "execution_count": 12
        }
      ]
    },
    {
      "cell_type": "code",
      "metadata": {
        "id": "aaJVQNRIcUYH",
        "colab": {
          "base_uri": "https://localhost:8080/"
        },
        "outputId": "f3db0c7d-a3b7-4f90-9b56-09f2ad980049"
      },
      "source": [
        "# total null values\n",
        "bos1.isna().sum().sum()"
      ],
      "execution_count": null,
      "outputs": [
        {
          "output_type": "execute_result",
          "data": {
            "text/plain": [
              "0"
            ]
          },
          "metadata": {
            "tags": []
          },
          "execution_count": 13
        }
      ]
    },
    {
      "cell_type": "code",
      "metadata": {
        "id": "ls-6FP1ay9Zx"
      },
      "source": [
        ""
      ],
      "execution_count": null,
      "outputs": []
    },
    {
      "cell_type": "code",
      "metadata": {
        "id": "TLn2jSrjcaZv",
        "colab": {
          "base_uri": "https://localhost:8080/",
          "height": 297
        },
        "outputId": "0b8bdd80-94df-4444-821d-07c364bf7cf5"
      },
      "source": [
        "bos1.describe()"
      ],
      "execution_count": null,
      "outputs": [
        {
          "output_type": "execute_result",
          "data": {
            "text/html": [
              "<div>\n",
              "<style scoped>\n",
              "    .dataframe tbody tr th:only-of-type {\n",
              "        vertical-align: middle;\n",
              "    }\n",
              "\n",
              "    .dataframe tbody tr th {\n",
              "        vertical-align: top;\n",
              "    }\n",
              "\n",
              "    .dataframe thead th {\n",
              "        text-align: right;\n",
              "    }\n",
              "</style>\n",
              "<table border=\"1\" class=\"dataframe\">\n",
              "  <thead>\n",
              "    <tr style=\"text-align: right;\">\n",
              "      <th></th>\n",
              "      <th>crim</th>\n",
              "      <th>zn</th>\n",
              "      <th>indus</th>\n",
              "      <th>chas</th>\n",
              "      <th>nox</th>\n",
              "      <th>rm</th>\n",
              "      <th>age</th>\n",
              "      <th>dis</th>\n",
              "      <th>rad</th>\n",
              "      <th>tax</th>\n",
              "      <th>ptratio</th>\n",
              "      <th>b</th>\n",
              "      <th>lstat</th>\n",
              "      <th>medv</th>\n",
              "    </tr>\n",
              "  </thead>\n",
              "  <tbody>\n",
              "    <tr>\n",
              "      <th>count</th>\n",
              "      <td>506.000000</td>\n",
              "      <td>506.000000</td>\n",
              "      <td>506.000000</td>\n",
              "      <td>506.000000</td>\n",
              "      <td>506.000000</td>\n",
              "      <td>506.000000</td>\n",
              "      <td>506.000000</td>\n",
              "      <td>506.000000</td>\n",
              "      <td>506.000000</td>\n",
              "      <td>506.000000</td>\n",
              "      <td>506.000000</td>\n",
              "      <td>506.000000</td>\n",
              "      <td>506.000000</td>\n",
              "      <td>506.000000</td>\n",
              "    </tr>\n",
              "    <tr>\n",
              "      <th>mean</th>\n",
              "      <td>3.613524</td>\n",
              "      <td>11.363636</td>\n",
              "      <td>11.136779</td>\n",
              "      <td>0.069170</td>\n",
              "      <td>0.554695</td>\n",
              "      <td>6.284634</td>\n",
              "      <td>68.574901</td>\n",
              "      <td>3.795043</td>\n",
              "      <td>9.549407</td>\n",
              "      <td>408.237154</td>\n",
              "      <td>18.455534</td>\n",
              "      <td>356.674032</td>\n",
              "      <td>12.653063</td>\n",
              "      <td>22.532806</td>\n",
              "    </tr>\n",
              "    <tr>\n",
              "      <th>std</th>\n",
              "      <td>8.601545</td>\n",
              "      <td>23.322453</td>\n",
              "      <td>6.860353</td>\n",
              "      <td>0.253994</td>\n",
              "      <td>0.115878</td>\n",
              "      <td>0.702617</td>\n",
              "      <td>28.148861</td>\n",
              "      <td>2.105710</td>\n",
              "      <td>8.707259</td>\n",
              "      <td>168.537116</td>\n",
              "      <td>2.164946</td>\n",
              "      <td>91.294864</td>\n",
              "      <td>7.141062</td>\n",
              "      <td>9.197104</td>\n",
              "    </tr>\n",
              "    <tr>\n",
              "      <th>min</th>\n",
              "      <td>0.006320</td>\n",
              "      <td>0.000000</td>\n",
              "      <td>0.460000</td>\n",
              "      <td>0.000000</td>\n",
              "      <td>0.385000</td>\n",
              "      <td>3.561000</td>\n",
              "      <td>2.900000</td>\n",
              "      <td>1.129600</td>\n",
              "      <td>1.000000</td>\n",
              "      <td>187.000000</td>\n",
              "      <td>12.600000</td>\n",
              "      <td>0.320000</td>\n",
              "      <td>1.730000</td>\n",
              "      <td>5.000000</td>\n",
              "    </tr>\n",
              "    <tr>\n",
              "      <th>25%</th>\n",
              "      <td>0.082045</td>\n",
              "      <td>0.000000</td>\n",
              "      <td>5.190000</td>\n",
              "      <td>0.000000</td>\n",
              "      <td>0.449000</td>\n",
              "      <td>5.885500</td>\n",
              "      <td>45.025000</td>\n",
              "      <td>2.100175</td>\n",
              "      <td>4.000000</td>\n",
              "      <td>279.000000</td>\n",
              "      <td>17.400000</td>\n",
              "      <td>375.377500</td>\n",
              "      <td>6.950000</td>\n",
              "      <td>17.025000</td>\n",
              "    </tr>\n",
              "    <tr>\n",
              "      <th>50%</th>\n",
              "      <td>0.256510</td>\n",
              "      <td>0.000000</td>\n",
              "      <td>9.690000</td>\n",
              "      <td>0.000000</td>\n",
              "      <td>0.538000</td>\n",
              "      <td>6.208500</td>\n",
              "      <td>77.500000</td>\n",
              "      <td>3.207450</td>\n",
              "      <td>5.000000</td>\n",
              "      <td>330.000000</td>\n",
              "      <td>19.050000</td>\n",
              "      <td>391.440000</td>\n",
              "      <td>11.360000</td>\n",
              "      <td>21.200000</td>\n",
              "    </tr>\n",
              "    <tr>\n",
              "      <th>75%</th>\n",
              "      <td>3.677082</td>\n",
              "      <td>12.500000</td>\n",
              "      <td>18.100000</td>\n",
              "      <td>0.000000</td>\n",
              "      <td>0.624000</td>\n",
              "      <td>6.623500</td>\n",
              "      <td>94.075000</td>\n",
              "      <td>5.188425</td>\n",
              "      <td>24.000000</td>\n",
              "      <td>666.000000</td>\n",
              "      <td>20.200000</td>\n",
              "      <td>396.225000</td>\n",
              "      <td>16.955000</td>\n",
              "      <td>25.000000</td>\n",
              "    </tr>\n",
              "    <tr>\n",
              "      <th>max</th>\n",
              "      <td>88.976200</td>\n",
              "      <td>100.000000</td>\n",
              "      <td>27.740000</td>\n",
              "      <td>1.000000</td>\n",
              "      <td>0.871000</td>\n",
              "      <td>8.780000</td>\n",
              "      <td>100.000000</td>\n",
              "      <td>12.126500</td>\n",
              "      <td>24.000000</td>\n",
              "      <td>711.000000</td>\n",
              "      <td>22.000000</td>\n",
              "      <td>396.900000</td>\n",
              "      <td>37.970000</td>\n",
              "      <td>50.000000</td>\n",
              "    </tr>\n",
              "  </tbody>\n",
              "</table>\n",
              "</div>"
            ],
            "text/plain": [
              "             crim          zn       indus  ...           b       lstat        medv\n",
              "count  506.000000  506.000000  506.000000  ...  506.000000  506.000000  506.000000\n",
              "mean     3.613524   11.363636   11.136779  ...  356.674032   12.653063   22.532806\n",
              "std      8.601545   23.322453    6.860353  ...   91.294864    7.141062    9.197104\n",
              "min      0.006320    0.000000    0.460000  ...    0.320000    1.730000    5.000000\n",
              "25%      0.082045    0.000000    5.190000  ...  375.377500    6.950000   17.025000\n",
              "50%      0.256510    0.000000    9.690000  ...  391.440000   11.360000   21.200000\n",
              "75%      3.677082   12.500000   18.100000  ...  396.225000   16.955000   25.000000\n",
              "max     88.976200  100.000000   27.740000  ...  396.900000   37.970000   50.000000\n",
              "\n",
              "[8 rows x 14 columns]"
            ]
          },
          "metadata": {
            "tags": []
          },
          "execution_count": 14
        }
      ]
    },
    {
      "cell_type": "code",
      "metadata": {
        "id": "meOWrzRrdHAk",
        "colab": {
          "base_uri": "https://localhost:8080/"
        },
        "outputId": "4cfbf054-d069-4baf-c2a1-88f0d9c8420d"
      },
      "source": [
        "#++++++++++++++++++++++++++++++++++++++++++++++++++++++++++++++++++++++++\n",
        "\n",
        "# check if there are duplicate rows or not \n",
        "\n",
        "#++++++++++++++++++++++++++++++++++++++++++++++++++++++++++++++++++++++++\n",
        "\n",
        "bos1_rows_df = bos1[bos1.duplicated()]\n",
        "print( \"number of duplicate rows: \", bos1_rows_df.shape)"
      ],
      "execution_count": null,
      "outputs": [
        {
          "output_type": "stream",
          "text": [
            "number of duplicate rows:  (0, 14)\n"
          ],
          "name": "stdout"
        }
      ]
    },
    {
      "cell_type": "code",
      "metadata": {
        "id": "q6DqP_bpYPKb"
      },
      "source": [
        "x = bos1.iloc[:,0:13]\n",
        "y = bos1[\"medv\"]"
      ],
      "execution_count": null,
      "outputs": []
    },
    {
      "cell_type": "code",
      "metadata": {
        "id": "wF7ksj8uYPKb",
        "colab": {
          "base_uri": "https://localhost:8080/",
          "height": 204
        },
        "outputId": "67ff5caa-37ef-4434-c764-66a309dc06cc"
      },
      "source": [
        "x.head()"
      ],
      "execution_count": null,
      "outputs": [
        {
          "output_type": "execute_result",
          "data": {
            "text/html": [
              "<div>\n",
              "<style scoped>\n",
              "    .dataframe tbody tr th:only-of-type {\n",
              "        vertical-align: middle;\n",
              "    }\n",
              "\n",
              "    .dataframe tbody tr th {\n",
              "        vertical-align: top;\n",
              "    }\n",
              "\n",
              "    .dataframe thead th {\n",
              "        text-align: right;\n",
              "    }\n",
              "</style>\n",
              "<table border=\"1\" class=\"dataframe\">\n",
              "  <thead>\n",
              "    <tr style=\"text-align: right;\">\n",
              "      <th></th>\n",
              "      <th>crim</th>\n",
              "      <th>zn</th>\n",
              "      <th>indus</th>\n",
              "      <th>chas</th>\n",
              "      <th>nox</th>\n",
              "      <th>rm</th>\n",
              "      <th>age</th>\n",
              "      <th>dis</th>\n",
              "      <th>rad</th>\n",
              "      <th>tax</th>\n",
              "      <th>ptratio</th>\n",
              "      <th>b</th>\n",
              "      <th>lstat</th>\n",
              "    </tr>\n",
              "  </thead>\n",
              "  <tbody>\n",
              "    <tr>\n",
              "      <th>0</th>\n",
              "      <td>0.00632</td>\n",
              "      <td>18.0</td>\n",
              "      <td>2.31</td>\n",
              "      <td>0</td>\n",
              "      <td>0.538</td>\n",
              "      <td>6.575</td>\n",
              "      <td>65.2</td>\n",
              "      <td>4.0900</td>\n",
              "      <td>1</td>\n",
              "      <td>296</td>\n",
              "      <td>15.3</td>\n",
              "      <td>396.90</td>\n",
              "      <td>4.98</td>\n",
              "    </tr>\n",
              "    <tr>\n",
              "      <th>1</th>\n",
              "      <td>0.02731</td>\n",
              "      <td>0.0</td>\n",
              "      <td>7.07</td>\n",
              "      <td>0</td>\n",
              "      <td>0.469</td>\n",
              "      <td>6.421</td>\n",
              "      <td>78.9</td>\n",
              "      <td>4.9671</td>\n",
              "      <td>2</td>\n",
              "      <td>242</td>\n",
              "      <td>17.8</td>\n",
              "      <td>396.90</td>\n",
              "      <td>9.14</td>\n",
              "    </tr>\n",
              "    <tr>\n",
              "      <th>2</th>\n",
              "      <td>0.02729</td>\n",
              "      <td>0.0</td>\n",
              "      <td>7.07</td>\n",
              "      <td>0</td>\n",
              "      <td>0.469</td>\n",
              "      <td>7.185</td>\n",
              "      <td>61.1</td>\n",
              "      <td>4.9671</td>\n",
              "      <td>2</td>\n",
              "      <td>242</td>\n",
              "      <td>17.8</td>\n",
              "      <td>392.83</td>\n",
              "      <td>4.03</td>\n",
              "    </tr>\n",
              "    <tr>\n",
              "      <th>3</th>\n",
              "      <td>0.03237</td>\n",
              "      <td>0.0</td>\n",
              "      <td>2.18</td>\n",
              "      <td>0</td>\n",
              "      <td>0.458</td>\n",
              "      <td>6.998</td>\n",
              "      <td>45.8</td>\n",
              "      <td>6.0622</td>\n",
              "      <td>3</td>\n",
              "      <td>222</td>\n",
              "      <td>18.7</td>\n",
              "      <td>394.63</td>\n",
              "      <td>2.94</td>\n",
              "    </tr>\n",
              "    <tr>\n",
              "      <th>4</th>\n",
              "      <td>0.06905</td>\n",
              "      <td>0.0</td>\n",
              "      <td>2.18</td>\n",
              "      <td>0</td>\n",
              "      <td>0.458</td>\n",
              "      <td>7.147</td>\n",
              "      <td>54.2</td>\n",
              "      <td>6.0622</td>\n",
              "      <td>3</td>\n",
              "      <td>222</td>\n",
              "      <td>18.7</td>\n",
              "      <td>396.90</td>\n",
              "      <td>5.33</td>\n",
              "    </tr>\n",
              "  </tbody>\n",
              "</table>\n",
              "</div>"
            ],
            "text/plain": [
              "      crim    zn  indus  chas    nox  ...  rad  tax  ptratio       b  lstat\n",
              "0  0.00632  18.0   2.31     0  0.538  ...    1  296     15.3  396.90   4.98\n",
              "1  0.02731   0.0   7.07     0  0.469  ...    2  242     17.8  396.90   9.14\n",
              "2  0.02729   0.0   7.07     0  0.469  ...    2  242     17.8  392.83   4.03\n",
              "3  0.03237   0.0   2.18     0  0.458  ...    3  222     18.7  394.63   2.94\n",
              "4  0.06905   0.0   2.18     0  0.458  ...    3  222     18.7  396.90   5.33\n",
              "\n",
              "[5 rows x 13 columns]"
            ]
          },
          "metadata": {
            "tags": []
          },
          "execution_count": 17
        }
      ]
    },
    {
      "cell_type": "code",
      "metadata": {
        "collapsed": true,
        "id": "3QQWGD4cYPKc",
        "colab": {
          "base_uri": "https://localhost:8080/"
        },
        "outputId": "d90c5076-c5a7-4c4f-c88a-07acb392b532"
      },
      "source": [
        "y.head()"
      ],
      "execution_count": null,
      "outputs": [
        {
          "output_type": "execute_result",
          "data": {
            "text/plain": [
              "0    24.0\n",
              "1    21.6\n",
              "2    34.7\n",
              "3    33.4\n",
              "4    36.2\n",
              "Name: medv, dtype: float64"
            ]
          },
          "metadata": {
            "tags": []
          },
          "execution_count": 18
        }
      ]
    },
    {
      "cell_type": "code",
      "metadata": {
        "collapsed": true,
        "id": "MLK8OCBqYPKd",
        "colab": {
          "base_uri": "https://localhost:8080/",
          "height": 292
        },
        "outputId": "9a25c565-e869-4d74-ad54-b6ebcf6eff5b"
      },
      "source": [
        "#code to plot correlation\n",
        "\n",
        "#librarry to establish correlation\n",
        "import seaborn as sns\n",
        "names = []\n",
        "#creating a correlation matrix\n",
        "correlations = bos1.corr()\n",
        "sns.heatmap(correlations,square = True, cmap = \"YlGnBu\")\n",
        "plt.yticks(rotation=0)\n",
        "plt.xticks(rotation=90)\n",
        "plt.show()"
      ],
      "execution_count": null,
      "outputs": [
        {
          "output_type": "display_data",
          "data": {
            "image/png": "[encoded data removed]",
            "text/plain": [
              "<Figure size 432x288 with 2 Axes>"
            ]
          },
          "metadata": {
            "tags": [],
            "needs_background": "light"
          }
        }
      ]
    },
    {
      "cell_type": "markdown",
      "metadata": {
        "id": "E02pON8MgdCy"
      },
      "source": [
        "# Base Model"
      ]
    },
    {
      "cell_type": "code",
      "metadata": {
        "id": "RFMLxnqQYPKd"
      },
      "source": [
        "from sklearn.model_selection import train_test_split\n",
        "#testing data size is of 33% of entire data\n",
        "x_train, x_test, y_train, y_test =train_test_split(x,y, test_size = 0.33, random_state =10)"
      ],
      "execution_count": null,
      "outputs": []
    },
    {
      "cell_type": "code",
      "metadata": {
        "id": "qYMFlRhmYPKe",
        "colab": {
          "base_uri": "https://localhost:8080/"
        },
        "outputId": "26276eef-ce0c-43de-ce6f-a1ab6bd8b1bc"
      },
      "source": [
        "x_train.shape"
      ],
      "execution_count": null,
      "outputs": [
        {
          "output_type": "execute_result",
          "data": {
            "text/plain": [
              "(339, 13)"
            ]
          },
          "metadata": {
            "tags": []
          },
          "execution_count": 21
        }
      ]
    },
    {
      "cell_type": "code",
      "metadata": {
        "id": "sMpZ_wG5YPKe"
      },
      "source": [
        "from sklearn.linear_model import LinearRegression\n",
        "#fitting our model to train and test\n",
        "lm = LinearRegression()\n",
        "model = lm.fit(x_train,y_train)"
      ],
      "execution_count": null,
      "outputs": []
    },
    {
      "cell_type": "code",
      "metadata": {
        "id": "bLMOtbavYPKf",
        "colab": {
          "base_uri": "https://localhost:8080/"
        },
        "outputId": "223fb317-a0bb-48fc-c779-bb59081993a8"
      },
      "source": [
        "#Equation coefficient and Intercept\n",
        "print('Coefficient: \\n', model.coef_)\n",
        "print('Intercept: \\n', model.intercept_)"
      ],
      "execution_count": null,
      "outputs": [
        {
          "output_type": "stream",
          "text": [
            "Coefficient: \n",
            " [-1.56353750e-01  6.60616548e-02 -2.01655290e-02  1.57889806e+00\n",
            " -1.53490777e+01  3.34105533e+00  1.14773954e-02 -1.55360652e+00\n",
            "  3.05450100e-01 -1.21583833e-02 -8.14405729e-01  1.32763069e-02\n",
            " -5.45290138e-01]\n",
            "Intercept: \n",
            " 34.213297257606456\n"
          ],
          "name": "stdout"
        }
      ]
    },
    {
      "cell_type": "code",
      "metadata": {
        "collapsed": true,
        "id": "Jx30WsKjYPKf",
        "colab": {
          "base_uri": "https://localhost:8080/"
        },
        "outputId": "702fcade-3486-40f1-e0e5-a4d9f116ca7b"
      },
      "source": [
        "pred_y = lm.predict(x_test)\n",
        "print(y_test)"
      ],
      "execution_count": null,
      "outputs": [
        {
          "output_type": "stream",
          "text": [
            "305    28.4\n",
            "193    31.1\n",
            "65     23.5\n",
            "349    26.6\n",
            "151    19.6\n",
            "       ... \n",
            "442    18.4\n",
            "451    15.2\n",
            "188    29.8\n",
            "76     20.0\n",
            "314    23.8\n",
            "Name: medv, Length: 167, dtype: float64\n"
          ],
          "name": "stdout"
        }
      ]
    },
    {
      "cell_type": "code",
      "metadata": {
        "collapsed": true,
        "id": "c-XToIOHYPKg",
        "colab": {
          "base_uri": "https://localhost:8080/"
        },
        "outputId": "e9b8ea51-87d3-4528-ab79-21e3ed0ce43e"
      },
      "source": [
        "pred_y"
      ],
      "execution_count": null,
      "outputs": [
        {
          "output_type": "execute_result",
          "data": {
            "text/plain": [
              "array([31.43849583, 31.98794389, 30.99895559, 22.31396689, 18.89492791,\n",
              "       16.21371128, 35.9881236 , 14.81264582, 25.04500847, 37.12806894,\n",
              "       21.49110158, 30.88757187, 28.05752881, 34.05600093, 33.75791114,\n",
              "       40.63880011, 24.24023412, 23.41351375, 25.54158122, 21.34135664,\n",
              "       32.71699711, 17.88341061, 25.49549436, 25.01006418, 32.54102925,\n",
              "       20.48979076, 19.48816948, 16.92733183, 38.38530857,  0.36265208,\n",
              "       32.42715816, 32.15306983, 26.10323665, 23.79611814, 20.67497128,\n",
              "       19.69393973,  3.50784614, 35.26259797, 27.04725425, 27.66164435,\n",
              "       34.35132103, 29.83057837, 18.40939436, 31.56953795, 17.91877807,\n",
              "       28.50042742, 19.49382421, 21.69553078, 38.0954563 , 16.44490081,\n",
              "       24.58507284, 19.67889486, 24.53954813, 34.30610423, 26.74699088,\n",
              "       34.87803562, 21.06219662, 19.87980936, 18.68725139, 24.71786624,\n",
              "       19.96344041, 23.56002479, 39.57630226, 42.81994338, 30.37060855,\n",
              "       17.03737245, 23.83719412,  3.2425022 , 31.5046382 , 28.63779884,\n",
              "       18.49288659, 27.14115768, 19.67125483, 25.34222917, 25.05430467,\n",
              "       10.29463949, 38.96369453,  8.26774249, 18.52214761, 30.34082002,\n",
              "       22.87681099, 20.96680268, 20.04604103, 28.73415756, 30.81726786,\n",
              "       28.23002473, 26.28588806, 31.59181918, 22.13093608, -6.48201197,\n",
              "       21.53000756, 19.90826887, 24.96686716, 23.44746617, 19.28521216,\n",
              "       18.75729874, 27.40013804, 22.17867402, 26.82972   , 23.39779064,\n",
              "       23.9260607 , 19.16632572, 21.09732823, 11.01452286, 13.7692535 ,\n",
              "       20.74596484, 23.54892211, 14.04445469, 28.88171403, 15.77611741,\n",
              "       15.25195598, 22.429474  , 26.60737213, 28.88742175, 24.29797261,\n",
              "       18.26839956, 16.26943281, 17.40100292, 15.53131616, 21.27868825,\n",
              "       33.78464602, 30.00899396, 21.16115702, 13.95560661, 16.18475215,\n",
              "       29.30998858, 13.1866784 , 22.08393725, 24.34499386, 31.86829501,\n",
              "       33.45923602,  5.90671516, 35.20153265, 24.17614831, 17.54200544,\n",
              "       24.25032915, 28.44671354, 34.50123773,  6.33164665,  1.93565618,\n",
              "       28.40727267, 12.56461105, 18.31045646, 19.71015745,  5.50105857,\n",
              "       14.51366874, 37.193992  , 25.81821367, 23.31632083, 26.43254504,\n",
              "       11.38255141, 20.46224115, 35.27645709, 20.57841598, 11.48799917,\n",
              "       16.23913171, 24.56511742, 10.53131603, 15.07115005, 25.98488217,\n",
              "       11.2136222 , 11.695686  , 19.40437966, 19.58768384, 32.43800883,\n",
              "       22.66170871, 25.68576052])"
            ]
          },
          "metadata": {
            "tags": []
          },
          "execution_count": 25
        }
      ]
    },
    {
      "cell_type": "code",
      "metadata": {
        "collapsed": true,
        "id": "qd35rWH0YPKg",
        "colab": {
          "base_uri": "https://localhost:8080/",
          "height": 296
        },
        "outputId": "b5e200d4-eda3-492a-eaf2-5779a4e37666"
      },
      "source": [
        "plt.scatter(y_test,pred_y)\n",
        "plt.xlabel('Y Test')\n",
        "plt.ylabel('Predicted Y')"
      ],
      "execution_count": null,
      "outputs": [
        {
          "output_type": "execute_result",
          "data": {
            "text/plain": [
              "Text(0, 0.5, 'Predicted Y')"
            ]
          },
          "metadata": {
            "tags": []
          },
          "execution_count": 26
        },
        {
          "output_type": "display_data",
          "data": {
            "image/png": "[encoded data removed]",
            "text/plain": [
              "<Figure size 432x288 with 1 Axes>"
            ]
          },
          "metadata": {
            "tags": [],
            "needs_background": "light"
          }
        }
      ]
    },
    {
      "cell_type": "code",
      "metadata": {
        "id": "boollubHYPKh"
      },
      "source": [
        "from sklearn.metrics import mean_squared_error"
      ],
      "execution_count": null,
      "outputs": []
    },
    {
      "cell_type": "code",
      "metadata": {
        "id": "ybgDrKKSYPKh",
        "colab": {
          "base_uri": "https://localhost:8080/"
        },
        "outputId": "702831a8-7a08-4bc2-c05d-265685d46c20"
      },
      "source": [
        "# evaluate predictions\n",
        "mse = mean_squared_error(y_test,pred_y)\n",
        "print('MSE: %.3f' % mse)"
      ],
      "execution_count": null,
      "outputs": [
        {
          "output_type": "stream",
          "text": [
            "MSE: 27.101\n"
          ],
          "name": "stdout"
        }
      ]
    },
    {
      "cell_type": "code",
      "metadata": {
        "collapsed": true,
        "id": "a-0o2CHzYPKh",
        "colab": {
          "base_uri": "https://localhost:8080/",
          "height": 282
        },
        "outputId": "d061b17f-6fdd-40ea-d6da-52b764c1f2d9"
      },
      "source": [
        "#NORMALITY if ERROR\n",
        "resid = y_test - pred_y\n",
        "resid = pd.Series(resid)\n",
        "plt.scatter(pred_y,resid)\n",
        "plt.hlines(0,4,40) #no pattersn obbserver \n",
        "#in case of any issues we may have to look for log Transformation etc..."
      ],
      "execution_count": null,
      "outputs": [
        {
          "output_type": "execute_result",
          "data": {
            "text/plain": [
              "<matplotlib.collections.LineCollection at 0x7f0b43e79950>"
            ]
          },
          "metadata": {
            "tags": []
          },
          "execution_count": 32
        },
        {
          "output_type": "display_data",
          "data": {
            "image/png": "[encoded data removed]",
            "text/plain": [
              "<Figure size 432x288 with 1 Axes>"
            ]
          },
          "metadata": {
            "tags": [],
            "needs_background": "light"
          }
        }
      ]
    },
    {
      "cell_type": "code",
      "metadata": {
        "id": "CH8ORuqFYPKi",
        "colab": {
          "base_uri": "https://localhost:8080/",
          "height": 282
        },
        "outputId": "c5ce4c52-0e4a-4fbf-8840-3040d6c8d8d2"
      },
      "source": [
        "#independence of ERROS\n",
        "plt.scatter(resid.index,resid.values)\n",
        "plt.hlines(0,0,500)\n",
        "#again no appearent patteren , so our moel doing fine"
      ],
      "execution_count": null,
      "outputs": [
        {
          "output_type": "execute_result",
          "data": {
            "text/plain": [
              "<matplotlib.collections.LineCollection at 0x7f0b49592c90>"
            ]
          },
          "metadata": {
            "tags": []
          },
          "execution_count": 33
        },
        {
          "output_type": "display_data",
          "data": {
            "image/png": "[encoded data removed]",
            "text/plain": [
              "<Figure size 432x288 with 1 Axes>"
            ]
          },
          "metadata": {
            "tags": [],
            "needs_background": "light"
          }
        }
      ]
    },
    {
      "cell_type": "code",
      "metadata": {
        "id": "D5pAQqWgYPKi",
        "colab": {
          "base_uri": "https://localhost:8080/"
        },
        "outputId": "2d017fa9-e631-44f6-a4ff-a34c1efb5bd5"
      },
      "source": [
        "#independence of ERROS (Other method)\n",
        "from statsmodels.stats.stattools import durbin_watson\n",
        "\n",
        "durbin_watson(resid)\n",
        "\n",
        "#0 neg serial co relation\n",
        "#4 positive serial co relation\n",
        "#2 no issue"
      ],
      "execution_count": null,
      "outputs": [
        {
          "output_type": "stream",
          "text": [
            "/usr/local/lib/python3.7/dist-packages/statsmodels/tools/_testing.py:19: FutureWarning: pandas.util.testing is deprecated. Use the functions in the public API at pandas.testing instead.\n",
            "  import pandas.util.testing as tm\n"
          ],
          "name": "stderr"
        },
        {
          "output_type": "execute_result",
          "data": {
            "text/plain": [
              "1.8841341731925505"
            ]
          },
          "metadata": {
            "tags": []
          },
          "execution_count": 34
        }
      ]
    },
    {
      "cell_type": "code",
      "metadata": {
        "id": "kcCf6uk6YPKj",
        "colab": {
          "base_uri": "https://localhost:8080/",
          "height": 282
        },
        "outputId": "424a63e1-fece-430b-f1df-1c14daabf8a8"
      },
      "source": [
        "plt.scatter(pred_y,resid)"
      ],
      "execution_count": null,
      "outputs": [
        {
          "output_type": "execute_result",
          "data": {
            "text/plain": [
              "<matplotlib.collections.PathCollection at 0x7f0b42b5d910>"
            ]
          },
          "metadata": {
            "tags": []
          },
          "execution_count": 35
        },
        {
          "output_type": "display_data",
          "data": {
            "image/png": "[encoded data removed]",
            "text/plain": [
              "<Figure size 432x288 with 1 Axes>"
            ]
          },
          "metadata": {
            "tags": [],
            "needs_background": "light"
          }
        }
      ]
    },
    {
      "cell_type": "markdown",
      "metadata": {
        "id": "2R_euvrEXBdz"
      },
      "source": [
        "# Outlier detection and removal using Z Score\n",
        "![image.png](data:image/png;base64,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)"
      ]
    },
    {
      "cell_type": "code",
      "metadata": {
        "id": "mqqkCRwngqR4"
      },
      "source": [
        "df = bos1.copy()"
      ],
      "execution_count": null,
      "outputs": []
    },
    {
      "cell_type": "code",
      "metadata": {
        "colab": {
          "base_uri": "https://localhost:8080/",
          "height": 1000
        },
        "id": "sT0K18I3X3Mt",
        "outputId": "989edf00-ebbb-4260-92af-eeb303fefa19"
      },
      "source": [
        "#___________________________________________\n",
        "# First check with box plot \n",
        "#___________________________________________\n",
        "\n",
        "# let's try to plot boxplot with seaborn\n",
        "for columns in df.columns.values:\n",
        "  sns.boxplot(x=df[columns], color='lime')\n",
        "  plt.xlabel(columns, fontsize=14)\n",
        "  plt.show()"
      ],
      "execution_count": null,
      "outputs": [
        {
          "output_type": "display_data",
          "data": {
            "image/png": "[encoded data removed]",
            "text/plain": [
              "<Figure size 432x288 with 1 Axes>"
            ]
          },
          "metadata": {
            "tags": [],
            "needs_background": "light"
          }
        },
        {
          "output_type": "display_data",
          "data": {
            "image/png": "[encoded data removed]",
            "text/plain": [
              "<Figure size 432x288 with 1 Axes>"
            ]
          },
          "metadata": {
            "tags": [],
            "needs_background": "light"
          }
        },
        {
          "output_type": "display_data",
          "data": {
            "image/png": "[encoded data removed]",
            "text/plain": [
              "<Figure size 432x288 with 1 Axes>"
            ]
          },
          "metadata": {
            "tags": [],
            "needs_background": "light"
          }
        },
        {
          "output_type": "display_data",
          "data": {
            "image/png": "[encoded data removed]",
            "text/plain": [
              "<Figure size 432x288 with 1 Axes>"
            ]
          },
          "metadata": {
            "tags": [],
            "needs_background": "light"
          }
        },
        {
          "output_type": "display_data",
          "data": {
            "image/png": "[encoded data removed]",
            "text/plain": [
              "<Figure size 432x288 with 1 Axes>"
            ]
          },
          "metadata": {
            "tags": [],
            "needs_background": "light"
          }
        },
        {
          "output_type": "display_data",
          "data": {
            "image/png": "[encoded data removed]",
            "text/plain": [
              "<Figure size 432x288 with 1 Axes>"
            ]
          },
          "metadata": {
            "tags": [],
            "needs_background": "light"
          }
        },
        {
          "output_type": "display_data",
          "data": {
            "image/png": "[encoded data removed]",
            "text/plain": [
              "<Figure size 432x288 with 1 Axes>"
            ]
          },
          "metadata": {
            "tags": [],
            "needs_background": "light"
          }
        },
        {
          "output_type": "display_data",
          "data": {
            "image/png": "[encoded data removed]",
            "text/plain": [
              "<Figure size 432x288 with 1 Axes>"
            ]
          },
          "metadata": {
            "tags": [],
            "needs_background": "light"
          }
        },
        {
          "output_type": "display_data",
          "data": {
            "image/png": "[encoded data removed]",
            "text/plain": [
              "<Figure size 432x288 with 1 Axes>"
            ]
          },
          "metadata": {
            "tags": [],
            "needs_background": "light"
          }
        },
        {
          "output_type": "display_data",
          "data": {
            "image/png": "[encoded data removed]",
            "text/plain": [
              "<Figure size 432x288 with 1 Axes>"
            ]
          },
          "metadata": {
            "tags": [],
            "needs_background": "light"
          }
        },
        {
          "output_type": "display_data",
          "data": {
            "image/png": "[encoded data removed]",
            "text/plain": [
              "<Figure size 432x288 with 1 Axes>"
            ]
          },
          "metadata": {
            "tags": [],
            "needs_background": "light"
          }
        },
        {
          "output_type": "display_data",
          "data": {
            "image/png": "[encoded data removed]",
            "text/plain": [
              "<Figure size 432x288 with 1 Axes>"
            ]
          },
          "metadata": {
            "tags": [],
            "needs_background": "light"
          }
        },
        {
          "output_type": "display_data",
          "data": {
            "image/png": "[encoded data removed]",
            "text/plain": [
              "<Figure size 432x288 with 1 Axes>"
            ]
          },
          "metadata": {
            "tags": [],
            "needs_background": "light"
          }
        },
        {
          "output_type": "display_data",
          "data": {
            "image/png": "[encoded data removed]",
            "text/plain": [
              "<Figure size 432x288 with 1 Axes>"
            ]
          },
          "metadata": {
            "tags": [],
            "needs_background": "light"
          }
        }
      ]
    },
    {
      "cell_type": "code",
      "metadata": {
        "colab": {
          "base_uri": "https://localhost:8080/",
          "height": 204
        },
        "id": "FHp-GMPGeYe2",
        "outputId": "e6f0baaf-1685-40a8-b13b-7b17f2b16782"
      },
      "source": [
        "df['zscore'] = ( df.crim - df.crim.mean() ) / df.crim.std()\n",
        "df.head(5)"
      ],
      "execution_count": null,
      "outputs": [
        {
          "output_type": "execute_result",
          "data": {
            "text/html": [
              "<div>\n",
              "<style scoped>\n",
              "    .dataframe tbody tr th:only-of-type {\n",
              "        vertical-align: middle;\n",
              "    }\n",
              "\n",
              "    .dataframe tbody tr th {\n",
              "        vertical-align: top;\n",
              "    }\n",
              "\n",
              "    .dataframe thead th {\n",
              "        text-align: right;\n",
              "    }\n",
              "</style>\n",
              "<table border=\"1\" class=\"dataframe\">\n",
              "  <thead>\n",
              "    <tr style=\"text-align: right;\">\n",
              "      <th></th>\n",
              "      <th>crim</th>\n",
              "      <th>zn</th>\n",
              "      <th>indus</th>\n",
              "      <th>chas</th>\n",
              "      <th>nox</th>\n",
              "      <th>rm</th>\n",
              "      <th>age</th>\n",
              "      <th>dis</th>\n",
              "      <th>rad</th>\n",
              "      <th>tax</th>\n",
              "      <th>ptratio</th>\n",
              "      <th>b</th>\n",
              "      <th>lstat</th>\n",
              "      <th>medv</th>\n",
              "      <th>zscore</th>\n",
              "    </tr>\n",
              "  </thead>\n",
              "  <tbody>\n",
              "    <tr>\n",
              "      <th>0</th>\n",
              "      <td>0.00632</td>\n",
              "      <td>18.0</td>\n",
              "      <td>2.31</td>\n",
              "      <td>0</td>\n",
              "      <td>0.538</td>\n",
              "      <td>6.575</td>\n",
              "      <td>65.2</td>\n",
              "      <td>4.0900</td>\n",
              "      <td>1</td>\n",
              "      <td>296</td>\n",
              "      <td>15.3</td>\n",
              "      <td>396.90</td>\n",
              "      <td>4.98</td>\n",
              "      <td>24.0</td>\n",
              "      <td>-0.419367</td>\n",
              "    </tr>\n",
              "    <tr>\n",
              "      <th>1</th>\n",
              "      <td>0.02731</td>\n",
              "      <td>0.0</td>\n",
              "      <td>7.07</td>\n",
              "      <td>0</td>\n",
              "      <td>0.469</td>\n",
              "      <td>6.421</td>\n",
              "      <td>78.9</td>\n",
              "      <td>4.9671</td>\n",
              "      <td>2</td>\n",
              "      <td>242</td>\n",
              "      <td>17.8</td>\n",
              "      <td>396.90</td>\n",
              "      <td>9.14</td>\n",
              "      <td>21.6</td>\n",
              "      <td>-0.416927</td>\n",
              "    </tr>\n",
              "    <tr>\n",
              "      <th>2</th>\n",
              "      <td>0.02729</td>\n",
              "      <td>0.0</td>\n",
              "      <td>7.07</td>\n",
              "      <td>0</td>\n",
              "      <td>0.469</td>\n",
              "      <td>7.185</td>\n",
              "      <td>61.1</td>\n",
              "      <td>4.9671</td>\n",
              "      <td>2</td>\n",
              "      <td>242</td>\n",
              "      <td>17.8</td>\n",
              "      <td>392.83</td>\n",
              "      <td>4.03</td>\n",
              "      <td>34.7</td>\n",
              "      <td>-0.416929</td>\n",
              "    </tr>\n",
              "    <tr>\n",
              "      <th>3</th>\n",
              "      <td>0.03237</td>\n",
              "      <td>0.0</td>\n",
              "      <td>2.18</td>\n",
              "      <td>0</td>\n",
              "      <td>0.458</td>\n",
              "      <td>6.998</td>\n",
              "      <td>45.8</td>\n",
              "      <td>6.0622</td>\n",
              "      <td>3</td>\n",
              "      <td>222</td>\n",
              "      <td>18.7</td>\n",
              "      <td>394.63</td>\n",
              "      <td>2.94</td>\n",
              "      <td>33.4</td>\n",
              "      <td>-0.416338</td>\n",
              "    </tr>\n",
              "    <tr>\n",
              "      <th>4</th>\n",
              "      <td>0.06905</td>\n",
              "      <td>0.0</td>\n",
              "      <td>2.18</td>\n",
              "      <td>0</td>\n",
              "      <td>0.458</td>\n",
              "      <td>7.147</td>\n",
              "      <td>54.2</td>\n",
              "      <td>6.0622</td>\n",
              "      <td>3</td>\n",
              "      <td>222</td>\n",
              "      <td>18.7</td>\n",
              "      <td>396.90</td>\n",
              "      <td>5.33</td>\n",
              "      <td>36.2</td>\n",
              "      <td>-0.412074</td>\n",
              "    </tr>\n",
              "  </tbody>\n",
              "</table>\n",
              "</div>"
            ],
            "text/plain": [
              "      crim    zn  indus  chas    nox  ...  ptratio       b  lstat  medv    zscore\n",
              "0  0.00632  18.0   2.31     0  0.538  ...     15.3  396.90   4.98  24.0 -0.419367\n",
              "1  0.02731   0.0   7.07     0  0.469  ...     17.8  396.90   9.14  21.6 -0.416927\n",
              "2  0.02729   0.0   7.07     0  0.469  ...     17.8  392.83   4.03  34.7 -0.416929\n",
              "3  0.03237   0.0   2.18     0  0.458  ...     18.7  394.63   2.94  33.4 -0.416338\n",
              "4  0.06905   0.0   2.18     0  0.458  ...     18.7  396.90   5.33  36.2 -0.412074\n",
              "\n",
              "[5 rows x 15 columns]"
            ]
          },
          "metadata": {
            "tags": []
          },
          "execution_count": 38
        }
      ]
    },
    {
      "cell_type": "markdown",
      "metadata": {
        "id": "t0aj5c7khOLa"
      },
      "source": [
        "Get data points that has z score higher than 3 or lower than -3. Another way of saying same thing is get data points that are more than 3 standard deviation away"
      ]
    },
    {
      "cell_type": "code",
      "metadata": {
        "id": "zJS4fhqaYPKj",
        "colab": {
          "base_uri": "https://localhost:8080/",
          "height": 297
        },
        "outputId": "a6a84a96-2f1f-41b1-bb7c-f41a03458969"
      },
      "source": [
        "df[df['zscore']>3]"
      ],
      "execution_count": null,
      "outputs": [
        {
          "output_type": "execute_result",
          "data": {
            "text/html": [
              "<div>\n",
              "<style scoped>\n",
              "    .dataframe tbody tr th:only-of-type {\n",
              "        vertical-align: middle;\n",
              "    }\n",
              "\n",
              "    .dataframe tbody tr th {\n",
              "        vertical-align: top;\n",
              "    }\n",
              "\n",
              "    .dataframe thead th {\n",
              "        text-align: right;\n",
              "    }\n",
              "</style>\n",
              "<table border=\"1\" class=\"dataframe\">\n",
              "  <thead>\n",
              "    <tr style=\"text-align: right;\">\n",
              "      <th></th>\n",
              "      <th>crim</th>\n",
              "      <th>zn</th>\n",
              "      <th>indus</th>\n",
              "      <th>chas</th>\n",
              "      <th>nox</th>\n",
              "      <th>rm</th>\n",
              "      <th>age</th>\n",
              "      <th>dis</th>\n",
              "      <th>rad</th>\n",
              "      <th>tax</th>\n",
              "      <th>ptratio</th>\n",
              "      <th>b</th>\n",
              "      <th>lstat</th>\n",
              "      <th>medv</th>\n",
              "      <th>zscore</th>\n",
              "    </tr>\n",
              "  </thead>\n",
              "  <tbody>\n",
              "    <tr>\n",
              "      <th>380</th>\n",
              "      <td>88.9762</td>\n",
              "      <td>0.0</td>\n",
              "      <td>18.1</td>\n",
              "      <td>0</td>\n",
              "      <td>0.671</td>\n",
              "      <td>6.968</td>\n",
              "      <td>91.9</td>\n",
              "      <td>1.4165</td>\n",
              "      <td>24</td>\n",
              "      <td>666</td>\n",
              "      <td>20.2</td>\n",
              "      <td>396.90</td>\n",
              "      <td>17.21</td>\n",
              "      <td>10.4</td>\n",
              "      <td>9.924110</td>\n",
              "    </tr>\n",
              "    <tr>\n",
              "      <th>398</th>\n",
              "      <td>38.3518</td>\n",
              "      <td>0.0</td>\n",
              "      <td>18.1</td>\n",
              "      <td>0</td>\n",
              "      <td>0.693</td>\n",
              "      <td>5.453</td>\n",
              "      <td>100.0</td>\n",
              "      <td>1.4896</td>\n",
              "      <td>24</td>\n",
              "      <td>666</td>\n",
              "      <td>20.2</td>\n",
              "      <td>396.90</td>\n",
              "      <td>30.59</td>\n",
              "      <td>5.0</td>\n",
              "      <td>4.038609</td>\n",
              "    </tr>\n",
              "    <tr>\n",
              "      <th>404</th>\n",
              "      <td>41.5292</td>\n",
              "      <td>0.0</td>\n",
              "      <td>18.1</td>\n",
              "      <td>0</td>\n",
              "      <td>0.693</td>\n",
              "      <td>5.531</td>\n",
              "      <td>85.4</td>\n",
              "      <td>1.6074</td>\n",
              "      <td>24</td>\n",
              "      <td>666</td>\n",
              "      <td>20.2</td>\n",
              "      <td>329.46</td>\n",
              "      <td>27.38</td>\n",
              "      <td>8.5</td>\n",
              "      <td>4.408008</td>\n",
              "    </tr>\n",
              "    <tr>\n",
              "      <th>405</th>\n",
              "      <td>67.9208</td>\n",
              "      <td>0.0</td>\n",
              "      <td>18.1</td>\n",
              "      <td>0</td>\n",
              "      <td>0.693</td>\n",
              "      <td>5.683</td>\n",
              "      <td>100.0</td>\n",
              "      <td>1.4254</td>\n",
              "      <td>24</td>\n",
              "      <td>666</td>\n",
              "      <td>20.2</td>\n",
              "      <td>384.97</td>\n",
              "      <td>22.98</td>\n",
              "      <td>5.0</td>\n",
              "      <td>7.476247</td>\n",
              "    </tr>\n",
              "    <tr>\n",
              "      <th>410</th>\n",
              "      <td>51.1358</td>\n",
              "      <td>0.0</td>\n",
              "      <td>18.1</td>\n",
              "      <td>0</td>\n",
              "      <td>0.597</td>\n",
              "      <td>5.757</td>\n",
              "      <td>100.0</td>\n",
              "      <td>1.4130</td>\n",
              "      <td>24</td>\n",
              "      <td>666</td>\n",
              "      <td>20.2</td>\n",
              "      <td>2.60</td>\n",
              "      <td>10.11</td>\n",
              "      <td>15.0</td>\n",
              "      <td>5.524853</td>\n",
              "    </tr>\n",
              "    <tr>\n",
              "      <th>414</th>\n",
              "      <td>45.7461</td>\n",
              "      <td>0.0</td>\n",
              "      <td>18.1</td>\n",
              "      <td>0</td>\n",
              "      <td>0.693</td>\n",
              "      <td>4.519</td>\n",
              "      <td>100.0</td>\n",
              "      <td>1.6582</td>\n",
              "      <td>24</td>\n",
              "      <td>666</td>\n",
              "      <td>20.2</td>\n",
              "      <td>88.27</td>\n",
              "      <td>36.98</td>\n",
              "      <td>7.0</td>\n",
              "      <td>4.898257</td>\n",
              "    </tr>\n",
              "    <tr>\n",
              "      <th>418</th>\n",
              "      <td>73.5341</td>\n",
              "      <td>0.0</td>\n",
              "      <td>18.1</td>\n",
              "      <td>0</td>\n",
              "      <td>0.679</td>\n",
              "      <td>5.957</td>\n",
              "      <td>100.0</td>\n",
              "      <td>1.8026</td>\n",
              "      <td>24</td>\n",
              "      <td>666</td>\n",
              "      <td>20.2</td>\n",
              "      <td>16.45</td>\n",
              "      <td>20.62</td>\n",
              "      <td>8.8</td>\n",
              "      <td>8.128839</td>\n",
              "    </tr>\n",
              "    <tr>\n",
              "      <th>427</th>\n",
              "      <td>37.6619</td>\n",
              "      <td>0.0</td>\n",
              "      <td>18.1</td>\n",
              "      <td>0</td>\n",
              "      <td>0.679</td>\n",
              "      <td>6.202</td>\n",
              "      <td>78.7</td>\n",
              "      <td>1.8629</td>\n",
              "      <td>24</td>\n",
              "      <td>666</td>\n",
              "      <td>20.2</td>\n",
              "      <td>18.82</td>\n",
              "      <td>14.52</td>\n",
              "      <td>10.9</td>\n",
              "      <td>3.958402</td>\n",
              "    </tr>\n",
              "  </tbody>\n",
              "</table>\n",
              "</div>"
            ],
            "text/plain": [
              "        crim   zn  indus  chas    nox  ...  ptratio       b  lstat  medv    zscore\n",
              "380  88.9762  0.0   18.1     0  0.671  ...     20.2  396.90  17.21  10.4  9.924110\n",
              "398  38.3518  0.0   18.1     0  0.693  ...     20.2  396.90  30.59   5.0  4.038609\n",
              "404  41.5292  0.0   18.1     0  0.693  ...     20.2  329.46  27.38   8.5  4.408008\n",
              "405  67.9208  0.0   18.1     0  0.693  ...     20.2  384.97  22.98   5.0  7.476247\n",
              "410  51.1358  0.0   18.1     0  0.597  ...     20.2    2.60  10.11  15.0  5.524853\n",
              "414  45.7461  0.0   18.1     0  0.693  ...     20.2   88.27  36.98   7.0  4.898257\n",
              "418  73.5341  0.0   18.1     0  0.679  ...     20.2   16.45  20.62   8.8  8.128839\n",
              "427  37.6619  0.0   18.1     0  0.679  ...     20.2   18.82  14.52  10.9  3.958402\n",
              "\n",
              "[8 rows x 15 columns]"
            ]
          },
          "metadata": {
            "tags": []
          },
          "execution_count": 39
        }
      ]
    },
    {
      "cell_type": "code",
      "metadata": {
        "colab": {
          "base_uri": "https://localhost:8080/",
          "height": 49
        },
        "id": "9654fKlDhcM-",
        "outputId": "264f54d0-fbb4-4a58-988c-22992b4c689a"
      },
      "source": [
        "df[df['zscore']<-3]"
      ],
      "execution_count": null,
      "outputs": [
        {
          "output_type": "execute_result",
          "data": {
            "text/html": [
              "<div>\n",
              "<style scoped>\n",
              "    .dataframe tbody tr th:only-of-type {\n",
              "        vertical-align: middle;\n",
              "    }\n",
              "\n",
              "    .dataframe tbody tr th {\n",
              "        vertical-align: top;\n",
              "    }\n",
              "\n",
              "    .dataframe thead th {\n",
              "        text-align: right;\n",
              "    }\n",
              "</style>\n",
              "<table border=\"1\" class=\"dataframe\">\n",
              "  <thead>\n",
              "    <tr style=\"text-align: right;\">\n",
              "      <th></th>\n",
              "      <th>crim</th>\n",
              "      <th>zn</th>\n",
              "      <th>indus</th>\n",
              "      <th>chas</th>\n",
              "      <th>nox</th>\n",
              "      <th>rm</th>\n",
              "      <th>age</th>\n",
              "      <th>dis</th>\n",
              "      <th>rad</th>\n",
              "      <th>tax</th>\n",
              "      <th>ptratio</th>\n",
              "      <th>b</th>\n",
              "      <th>lstat</th>\n",
              "      <th>medv</th>\n",
              "      <th>zscore</th>\n",
              "    </tr>\n",
              "  </thead>\n",
              "  <tbody>\n",
              "  </tbody>\n",
              "</table>\n",
              "</div>"
            ],
            "text/plain": [
              "Empty DataFrame\n",
              "Columns: [crim, zn, indus, chas, nox, rm, age, dis, rad, tax, ptratio, b, lstat, medv, zscore]\n",
              "Index: []"
            ]
          },
          "metadata": {
            "tags": []
          },
          "execution_count": 40
        }
      ]
    },
    {
      "cell_type": "markdown",
      "metadata": {
        "id": "M0Q1d3sUhiH7"
      },
      "source": [
        "Here is the list of all outliers"
      ]
    },
    {
      "cell_type": "code",
      "metadata": {
        "colab": {
          "base_uri": "https://localhost:8080/",
          "height": 297
        },
        "id": "p04DTDMKhfQC",
        "outputId": "af3b99d1-6be9-4f2b-95bc-f6a4f44c852e"
      },
      "source": [
        "df[(df.zscore<-3) | (df.zscore>3)]"
      ],
      "execution_count": null,
      "outputs": [
        {
          "output_type": "execute_result",
          "data": {
            "text/html": [
              "<div>\n",
              "<style scoped>\n",
              "    .dataframe tbody tr th:only-of-type {\n",
              "        vertical-align: middle;\n",
              "    }\n",
              "\n",
              "    .dataframe tbody tr th {\n",
              "        vertical-align: top;\n",
              "    }\n",
              "\n",
              "    .dataframe thead th {\n",
              "        text-align: right;\n",
              "    }\n",
              "</style>\n",
              "<table border=\"1\" class=\"dataframe\">\n",
              "  <thead>\n",
              "    <tr style=\"text-align: right;\">\n",
              "      <th></th>\n",
              "      <th>crim</th>\n",
              "      <th>zn</th>\n",
              "      <th>indus</th>\n",
              "      <th>chas</th>\n",
              "      <th>nox</th>\n",
              "      <th>rm</th>\n",
              "      <th>age</th>\n",
              "      <th>dis</th>\n",
              "      <th>rad</th>\n",
              "      <th>tax</th>\n",
              "      <th>ptratio</th>\n",
              "      <th>b</th>\n",
              "      <th>lstat</th>\n",
              "      <th>medv</th>\n",
              "      <th>zscore</th>\n",
              "    </tr>\n",
              "  </thead>\n",
              "  <tbody>\n",
              "    <tr>\n",
              "      <th>380</th>\n",
              "      <td>88.9762</td>\n",
              "      <td>0.0</td>\n",
              "      <td>18.1</td>\n",
              "      <td>0</td>\n",
              "      <td>0.671</td>\n",
              "      <td>6.968</td>\n",
              "      <td>91.9</td>\n",
              "      <td>1.4165</td>\n",
              "      <td>24</td>\n",
              "      <td>666</td>\n",
              "      <td>20.2</td>\n",
              "      <td>396.90</td>\n",
              "      <td>17.21</td>\n",
              "      <td>10.4</td>\n",
              "      <td>9.924110</td>\n",
              "    </tr>\n",
              "    <tr>\n",
              "      <th>398</th>\n",
              "      <td>38.3518</td>\n",
              "      <td>0.0</td>\n",
              "      <td>18.1</td>\n",
              "      <td>0</td>\n",
              "      <td>0.693</td>\n",
              "      <td>5.453</td>\n",
              "      <td>100.0</td>\n",
              "      <td>1.4896</td>\n",
              "      <td>24</td>\n",
              "      <td>666</td>\n",
              "      <td>20.2</td>\n",
              "      <td>396.90</td>\n",
              "      <td>30.59</td>\n",
              "      <td>5.0</td>\n",
              "      <td>4.038609</td>\n",
              "    </tr>\n",
              "    <tr>\n",
              "      <th>404</th>\n",
              "      <td>41.5292</td>\n",
              "      <td>0.0</td>\n",
              "      <td>18.1</td>\n",
              "      <td>0</td>\n",
              "      <td>0.693</td>\n",
              "      <td>5.531</td>\n",
              "      <td>85.4</td>\n",
              "      <td>1.6074</td>\n",
              "      <td>24</td>\n",
              "      <td>666</td>\n",
              "      <td>20.2</td>\n",
              "      <td>329.46</td>\n",
              "      <td>27.38</td>\n",
              "      <td>8.5</td>\n",
              "      <td>4.408008</td>\n",
              "    </tr>\n",
              "    <tr>\n",
              "      <th>405</th>\n",
              "      <td>67.9208</td>\n",
              "      <td>0.0</td>\n",
              "      <td>18.1</td>\n",
              "      <td>0</td>\n",
              "      <td>0.693</td>\n",
              "      <td>5.683</td>\n",
              "      <td>100.0</td>\n",
              "      <td>1.4254</td>\n",
              "      <td>24</td>\n",
              "      <td>666</td>\n",
              "      <td>20.2</td>\n",
              "      <td>384.97</td>\n",
              "      <td>22.98</td>\n",
              "      <td>5.0</td>\n",
              "      <td>7.476247</td>\n",
              "    </tr>\n",
              "    <tr>\n",
              "      <th>410</th>\n",
              "      <td>51.1358</td>\n",
              "      <td>0.0</td>\n",
              "      <td>18.1</td>\n",
              "      <td>0</td>\n",
              "      <td>0.597</td>\n",
              "      <td>5.757</td>\n",
              "      <td>100.0</td>\n",
              "      <td>1.4130</td>\n",
              "      <td>24</td>\n",
              "      <td>666</td>\n",
              "      <td>20.2</td>\n",
              "      <td>2.60</td>\n",
              "      <td>10.11</td>\n",
              "      <td>15.0</td>\n",
              "      <td>5.524853</td>\n",
              "    </tr>\n",
              "    <tr>\n",
              "      <th>414</th>\n",
              "      <td>45.7461</td>\n",
              "      <td>0.0</td>\n",
              "      <td>18.1</td>\n",
              "      <td>0</td>\n",
              "      <td>0.693</td>\n",
              "      <td>4.519</td>\n",
              "      <td>100.0</td>\n",
              "      <td>1.6582</td>\n",
              "      <td>24</td>\n",
              "      <td>666</td>\n",
              "      <td>20.2</td>\n",
              "      <td>88.27</td>\n",
              "      <td>36.98</td>\n",
              "      <td>7.0</td>\n",
              "      <td>4.898257</td>\n",
              "    </tr>\n",
              "    <tr>\n",
              "      <th>418</th>\n",
              "      <td>73.5341</td>\n",
              "      <td>0.0</td>\n",
              "      <td>18.1</td>\n",
              "      <td>0</td>\n",
              "      <td>0.679</td>\n",
              "      <td>5.957</td>\n",
              "      <td>100.0</td>\n",
              "      <td>1.8026</td>\n",
              "      <td>24</td>\n",
              "      <td>666</td>\n",
              "      <td>20.2</td>\n",
              "      <td>16.45</td>\n",
              "      <td>20.62</td>\n",
              "      <td>8.8</td>\n",
              "      <td>8.128839</td>\n",
              "    </tr>\n",
              "    <tr>\n",
              "      <th>427</th>\n",
              "      <td>37.6619</td>\n",
              "      <td>0.0</td>\n",
              "      <td>18.1</td>\n",
              "      <td>0</td>\n",
              "      <td>0.679</td>\n",
              "      <td>6.202</td>\n",
              "      <td>78.7</td>\n",
              "      <td>1.8629</td>\n",
              "      <td>24</td>\n",
              "      <td>666</td>\n",
              "      <td>20.2</td>\n",
              "      <td>18.82</td>\n",
              "      <td>14.52</td>\n",
              "      <td>10.9</td>\n",
              "      <td>3.958402</td>\n",
              "    </tr>\n",
              "  </tbody>\n",
              "</table>\n",
              "</div>"
            ],
            "text/plain": [
              "        crim   zn  indus  chas    nox  ...  ptratio       b  lstat  medv    zscore\n",
              "380  88.9762  0.0   18.1     0  0.671  ...     20.2  396.90  17.21  10.4  9.924110\n",
              "398  38.3518  0.0   18.1     0  0.693  ...     20.2  396.90  30.59   5.0  4.038609\n",
              "404  41.5292  0.0   18.1     0  0.693  ...     20.2  329.46  27.38   8.5  4.408008\n",
              "405  67.9208  0.0   18.1     0  0.693  ...     20.2  384.97  22.98   5.0  7.476247\n",
              "410  51.1358  0.0   18.1     0  0.597  ...     20.2    2.60  10.11  15.0  5.524853\n",
              "414  45.7461  0.0   18.1     0  0.693  ...     20.2   88.27  36.98   7.0  4.898257\n",
              "418  73.5341  0.0   18.1     0  0.679  ...     20.2   16.45  20.62   8.8  8.128839\n",
              "427  37.6619  0.0   18.1     0  0.679  ...     20.2   18.82  14.52  10.9  3.958402\n",
              "\n",
              "[8 rows x 15 columns]"
            ]
          },
          "metadata": {
            "tags": []
          },
          "execution_count": 41
        }
      ]
    },
    {
      "cell_type": "markdown",
      "metadata": {
        "id": "kL0irsqVh3wj"
      },
      "source": [
        "## Remove the outliers and produce new dataframe"
      ]
    },
    {
      "cell_type": "code",
      "metadata": {
        "colab": {
          "base_uri": "https://localhost:8080/",
          "height": 204
        },
        "id": "0VL_nXJJhz1M",
        "outputId": "34de9a39-bece-44f7-a6b3-ac260469c44c"
      },
      "source": [
        "df_no_outliers = df[(df.zscore>-3) & (df.zscore<3)]\n",
        "df_no_outliers.head()"
      ],
      "execution_count": null,
      "outputs": [
        {
          "output_type": "execute_result",
          "data": {
            "text/html": [
              "<div>\n",
              "<style scoped>\n",
              "    .dataframe tbody tr th:only-of-type {\n",
              "        vertical-align: middle;\n",
              "    }\n",
              "\n",
              "    .dataframe tbody tr th {\n",
              "        vertical-align: top;\n",
              "    }\n",
              "\n",
              "    .dataframe thead th {\n",
              "        text-align: right;\n",
              "    }\n",
              "</style>\n",
              "<table border=\"1\" class=\"dataframe\">\n",
              "  <thead>\n",
              "    <tr style=\"text-align: right;\">\n",
              "      <th></th>\n",
              "      <th>crim</th>\n",
              "      <th>zn</th>\n",
              "      <th>indus</th>\n",
              "      <th>chas</th>\n",
              "      <th>nox</th>\n",
              "      <th>rm</th>\n",
              "      <th>age</th>\n",
              "      <th>dis</th>\n",
              "      <th>rad</th>\n",
              "      <th>tax</th>\n",
              "      <th>ptratio</th>\n",
              "      <th>b</th>\n",
              "      <th>lstat</th>\n",
              "      <th>medv</th>\n",
              "      <th>zscore</th>\n",
              "    </tr>\n",
              "  </thead>\n",
              "  <tbody>\n",
              "    <tr>\n",
              "      <th>0</th>\n",
              "      <td>0.00632</td>\n",
              "      <td>18.0</td>\n",
              "      <td>2.31</td>\n",
              "      <td>0</td>\n",
              "      <td>0.538</td>\n",
              "      <td>6.575</td>\n",
              "      <td>65.2</td>\n",
              "      <td>4.0900</td>\n",
              "      <td>1</td>\n",
              "      <td>296</td>\n",
              "      <td>15.3</td>\n",
              "      <td>396.90</td>\n",
              "      <td>4.98</td>\n",
              "      <td>24.0</td>\n",
              "      <td>-0.419367</td>\n",
              "    </tr>\n",
              "    <tr>\n",
              "      <th>1</th>\n",
              "      <td>0.02731</td>\n",
              "      <td>0.0</td>\n",
              "      <td>7.07</td>\n",
              "      <td>0</td>\n",
              "      <td>0.469</td>\n",
              "      <td>6.421</td>\n",
              "      <td>78.9</td>\n",
              "      <td>4.9671</td>\n",
              "      <td>2</td>\n",
              "      <td>242</td>\n",
              "      <td>17.8</td>\n",
              "      <td>396.90</td>\n",
              "      <td>9.14</td>\n",
              "      <td>21.6</td>\n",
              "      <td>-0.416927</td>\n",
              "    </tr>\n",
              "    <tr>\n",
              "      <th>2</th>\n",
              "      <td>0.02729</td>\n",
              "      <td>0.0</td>\n",
              "      <td>7.07</td>\n",
              "      <td>0</td>\n",
              "      <td>0.469</td>\n",
              "      <td>7.185</td>\n",
              "      <td>61.1</td>\n",
              "      <td>4.9671</td>\n",
              "      <td>2</td>\n",
              "      <td>242</td>\n",
              "      <td>17.8</td>\n",
              "      <td>392.83</td>\n",
              "      <td>4.03</td>\n",
              "      <td>34.7</td>\n",
              "      <td>-0.416929</td>\n",
              "    </tr>\n",
              "    <tr>\n",
              "      <th>3</th>\n",
              "      <td>0.03237</td>\n",
              "      <td>0.0</td>\n",
              "      <td>2.18</td>\n",
              "      <td>0</td>\n",
              "      <td>0.458</td>\n",
              "      <td>6.998</td>\n",
              "      <td>45.8</td>\n",
              "      <td>6.0622</td>\n",
              "      <td>3</td>\n",
              "      <td>222</td>\n",
              "      <td>18.7</td>\n",
              "      <td>394.63</td>\n",
              "      <td>2.94</td>\n",
              "      <td>33.4</td>\n",
              "      <td>-0.416338</td>\n",
              "    </tr>\n",
              "    <tr>\n",
              "      <th>4</th>\n",
              "      <td>0.06905</td>\n",
              "      <td>0.0</td>\n",
              "      <td>2.18</td>\n",
              "      <td>0</td>\n",
              "      <td>0.458</td>\n",
              "      <td>7.147</td>\n",
              "      <td>54.2</td>\n",
              "      <td>6.0622</td>\n",
              "      <td>3</td>\n",
              "      <td>222</td>\n",
              "      <td>18.7</td>\n",
              "      <td>396.90</td>\n",
              "      <td>5.33</td>\n",
              "      <td>36.2</td>\n",
              "      <td>-0.412074</td>\n",
              "    </tr>\n",
              "  </tbody>\n",
              "</table>\n",
              "</div>"
            ],
            "text/plain": [
              "      crim    zn  indus  chas    nox  ...  ptratio       b  lstat  medv    zscore\n",
              "0  0.00632  18.0   2.31     0  0.538  ...     15.3  396.90   4.98  24.0 -0.419367\n",
              "1  0.02731   0.0   7.07     0  0.469  ...     17.8  396.90   9.14  21.6 -0.416927\n",
              "2  0.02729   0.0   7.07     0  0.469  ...     17.8  392.83   4.03  34.7 -0.416929\n",
              "3  0.03237   0.0   2.18     0  0.458  ...     18.7  394.63   2.94  33.4 -0.416338\n",
              "4  0.06905   0.0   2.18     0  0.458  ...     18.7  396.90   5.33  36.2 -0.412074\n",
              "\n",
              "[5 rows x 15 columns]"
            ]
          },
          "metadata": {
            "tags": []
          },
          "execution_count": 42
        }
      ]
    },
    {
      "cell_type": "code",
      "metadata": {
        "colab": {
          "base_uri": "https://localhost:8080/"
        },
        "id": "jZYxNjvYh6RL",
        "outputId": "b605c412-8be0-4f9a-c12f-25010102e74c"
      },
      "source": [
        "df_no_outliers.shape"
      ],
      "execution_count": null,
      "outputs": [
        {
          "output_type": "execute_result",
          "data": {
            "text/plain": [
              "(498, 15)"
            ]
          },
          "metadata": {
            "tags": []
          },
          "execution_count": 43
        }
      ]
    },
    {
      "cell_type": "code",
      "metadata": {
        "colab": {
          "base_uri": "https://localhost:8080/"
        },
        "id": "Xa2hLOmKh9aw",
        "outputId": "2282406f-020b-491e-8d1e-0528ff25cf4a"
      },
      "source": [
        "df.shape"
      ],
      "execution_count": null,
      "outputs": [
        {
          "output_type": "execute_result",
          "data": {
            "text/plain": [
              "(506, 15)"
            ]
          },
          "metadata": {
            "tags": []
          },
          "execution_count": 44
        }
      ]
    },
    {
      "cell_type": "code",
      "metadata": {
        "id": "ddx48NTDh_5w"
      },
      "source": [
        "x = df_no_outliers.iloc[:,0:13]\n",
        "y = df_no_outliers[\"medv\"]"
      ],
      "execution_count": null,
      "outputs": []
    },
    {
      "cell_type": "code",
      "metadata": {
        "id": "YSus_OMQik-6"
      },
      "source": [
        "from sklearn.model_selection import train_test_split\n",
        "#testing data size is of 33% of entire data\n",
        "x_train, x_test, y_train, y_test =train_test_split(x,y, test_size = 0.33, random_state =10)"
      ],
      "execution_count": null,
      "outputs": []
    },
    {
      "cell_type": "code",
      "metadata": {
        "colab": {
          "base_uri": "https://localhost:8080/"
        },
        "id": "TgeO91MjkTAB",
        "outputId": "5a3881fb-183b-4e88-a7d1-94d686a57a44"
      },
      "source": [
        "x_train.shape"
      ],
      "execution_count": null,
      "outputs": [
        {
          "output_type": "execute_result",
          "data": {
            "text/plain": [
              "(333, 13)"
            ]
          },
          "metadata": {
            "tags": []
          },
          "execution_count": 48
        }
      ]
    },
    {
      "cell_type": "code",
      "metadata": {
        "id": "TIipJCbvlQ76"
      },
      "source": [
        "from sklearn.linear_model import LinearRegression\n",
        "#fitting our model to train and test\n",
        "lm = LinearRegression()\n",
        "model = lm.fit(x_train,y_train)"
      ],
      "execution_count": null,
      "outputs": []
    },
    {
      "cell_type": "code",
      "metadata": {
        "colab": {
          "base_uri": "https://localhost:8080/"
        },
        "id": "Fl1NdxvClRQC",
        "outputId": "4fb7b5be-2fba-47fa-9149-cd63cb44fbaf"
      },
      "source": [
        "#Equation coefficient and Intercept\n",
        "print('Coefficient: \\n', model.coef_)\n",
        "print('Intercept: \\n', model.intercept_)"
      ],
      "execution_count": null,
      "outputs": [
        {
          "output_type": "stream",
          "text": [
            "Coefficient: \n",
            " [-1.05849016e-02  5.48053476e-02 -1.20240484e-02  3.59928414e+00\n",
            " -1.69448165e+01  3.81234740e+00  8.89971606e-03 -1.43895749e+00\n",
            "  2.90350444e-01 -1.08989409e-02 -8.73036232e-01  1.50581315e-02\n",
            " -5.33812593e-01]\n",
            "Intercept: \n",
            " 31.67903572580051\n"
          ],
          "name": "stdout"
        }
      ]
    },
    {
      "cell_type": "code",
      "metadata": {
        "colab": {
          "base_uri": "https://localhost:8080/"
        },
        "id": "3LU2K2VDlWOT",
        "outputId": "a4caaf1c-1262-40c1-a663-361e95c012f9"
      },
      "source": [
        "pred_y = lm.predict(x_test)\n",
        "print(y_test)"
      ],
      "execution_count": null,
      "outputs": [
        {
          "output_type": "stream",
          "text": [
            "389    11.5\n",
            "249    26.2\n",
            "400     5.6\n",
            "305    28.4\n",
            "146    15.6\n",
            "       ... \n",
            "325    24.6\n",
            "466    19.0\n",
            "276    33.2\n",
            "113    18.7\n",
            "193    31.1\n",
            "Name: medv, Length: 165, dtype: float64\n"
          ],
          "name": "stdout"
        }
      ]
    },
    {
      "cell_type": "code",
      "metadata": {
        "id": "Tg3FvMmClYD3"
      },
      "source": [
        "pred_y"
      ],
      "execution_count": null,
      "outputs": []
    },
    {
      "cell_type": "code",
      "metadata": {
        "colab": {
          "base_uri": "https://localhost:8080/",
          "height": 296
        },
        "id": "0F8cF5gOlZrG",
        "outputId": "fb773529-4451-4a8b-893e-70ac6f27f065"
      },
      "source": [
        "plt.scatter(y_test,pred_y)\n",
        "plt.xlabel('Y Test')\n",
        "plt.ylabel('Predicted Y')"
      ],
      "execution_count": null,
      "outputs": [
        {
          "output_type": "execute_result",
          "data": {
            "text/plain": [
              "Text(0, 0.5, 'Predicted Y')"
            ]
          },
          "metadata": {
            "tags": []
          },
          "execution_count": 53
        },
        {
          "output_type": "display_data",
          "data": {
            "image/png": "[encoded data removed]",
            "text/plain": [
              "<Figure size 432x288 with 1 Axes>"
            ]
          },
          "metadata": {
            "tags": [],
            "needs_background": "light"
          }
        }
      ]
    },
    {
      "cell_type": "code",
      "metadata": {
        "colab": {
          "base_uri": "https://localhost:8080/"
        },
        "id": "7Kjh6HCLlcJ4",
        "outputId": "4b69012d-a3bc-4a5a-fbbb-3ffe7e3dc86a"
      },
      "source": [
        "from sklearn.metrics import mean_squared_error\n",
        "# evaluate predictions\n",
        "mse = mean_squared_error(y_test,pred_y)\n",
        "print('MSE: %.3f' % mse)"
      ],
      "execution_count": null,
      "outputs": [
        {
          "output_type": "stream",
          "text": [
            "MSE: 18.603\n"
          ],
          "name": "stdout"
        }
      ]
    },
    {
      "cell_type": "code",
      "metadata": {
        "colab": {
          "base_uri": "https://localhost:8080/",
          "height": 282
        },
        "id": "UTnpJ2eYliny",
        "outputId": "892d16f1-5cab-4eb0-b3e5-d6f549a021cd"
      },
      "source": [
        "#NORMALITY if ERROR\n",
        "resid = y_test - pred_y\n",
        "resid = pd.Series(resid)\n",
        "plt.scatter(pred_y,resid)\n",
        "plt.hlines(0,4,40) #no pattersn obbserver \n",
        "#in case of any issues we may have to look for log Transformation etc..."
      ],
      "execution_count": null,
      "outputs": [
        {
          "output_type": "execute_result",
          "data": {
            "text/plain": [
              "<matplotlib.collections.LineCollection at 0x7f0b42af6fd0>"
            ]
          },
          "metadata": {
            "tags": []
          },
          "execution_count": 55
        },
        {
          "output_type": "display_data",
          "data": {
            "image/png": "[encoded data removed]",
            "text/plain": [
              "<Figure size 432x288 with 1 Axes>"
            ]
          },
          "metadata": {
            "tags": [],
            "needs_background": "light"
          }
        }
      ]
    },
    {
      "cell_type": "code",
      "metadata": {
        "colab": {
          "base_uri": "https://localhost:8080/",
          "height": 282
        },
        "id": "nFByK9KvllL7",
        "outputId": "cce80922-7eb7-42fc-aa07-971c499da34f"
      },
      "source": [
        "#independence of ERROS\n",
        "plt.scatter(resid.index,resid.values)\n",
        "plt.hlines(0,0,500)\n",
        "#again no appearent patteren , so our moel doing fine"
      ],
      "execution_count": null,
      "outputs": [
        {
          "output_type": "execute_result",
          "data": {
            "text/plain": [
              "<matplotlib.collections.LineCollection at 0x7f0b42760c10>"
            ]
          },
          "metadata": {
            "tags": []
          },
          "execution_count": 56
        },
        {
          "output_type": "display_data",
          "data": {
            "image/png": "[encoded data removed]",
            "text/plain": [
              "<Figure size 432x288 with 1 Axes>"
            ]
          },
          "metadata": {
            "tags": [],
            "needs_background": "light"
          }
        }
      ]
    },
    {
      "cell_type": "code",
      "metadata": {
        "colab": {
          "base_uri": "https://localhost:8080/",
          "height": 282
        },
        "id": "9k71Va2Globe",
        "outputId": "a19c319b-998b-42d1-b683-816f4470eefe"
      },
      "source": [
        "plt.scatter(pred_y,resid)"
      ],
      "execution_count": null,
      "outputs": [
        {
          "output_type": "execute_result",
          "data": {
            "text/plain": [
              "<matplotlib.collections.PathCollection at 0x7f0b42a666d0>"
            ]
          },
          "metadata": {
            "tags": []
          },
          "execution_count": 57
        },
        {
          "output_type": "display_data",
          "data": {
            "image/png": "[encoded data removed]",
            "text/plain": [
              "<Figure size 432x288 with 1 Axes>"
            ]
          },
          "metadata": {
            "tags": [],
            "needs_background": "light"
          }
        }
      ]
    },
    {
      "cell_type": "markdown",
      "metadata": {
        "id": "JHS9chq-oRnc"
      },
      "source": [
        "# Outlier Detection and Removal Using IQR"
      ]
    },
    {
      "cell_type": "code",
      "metadata": {
        "id": "bk3ukv1TocEi"
      },
      "source": [
        "df = bos1.copy()"
      ],
      "execution_count": null,
      "outputs": []
    },
    {
      "cell_type": "code",
      "metadata": {
        "colab": {
          "base_uri": "https://localhost:8080/",
          "height": 297
        },
        "id": "qr_YIZIkn8x_",
        "outputId": "4c297c1b-7400-427b-d0c9-fb8cde2f3ef6"
      },
      "source": [
        "df.describe()"
      ],
      "execution_count": null,
      "outputs": [
        {
          "output_type": "execute_result",
          "data": {
            "text/html": [
              "<div>\n",
              "<style scoped>\n",
              "    .dataframe tbody tr th:only-of-type {\n",
              "        vertical-align: middle;\n",
              "    }\n",
              "\n",
              "    .dataframe tbody tr th {\n",
              "        vertical-align: top;\n",
              "    }\n",
              "\n",
              "    .dataframe thead th {\n",
              "        text-align: right;\n",
              "    }\n",
              "</style>\n",
              "<table border=\"1\" class=\"dataframe\">\n",
              "  <thead>\n",
              "    <tr style=\"text-align: right;\">\n",
              "      <th></th>\n",
              "      <th>crim</th>\n",
              "      <th>zn</th>\n",
              "      <th>indus</th>\n",
              "      <th>chas</th>\n",
              "      <th>nox</th>\n",
              "      <th>rm</th>\n",
              "      <th>age</th>\n",
              "      <th>dis</th>\n",
              "      <th>rad</th>\n",
              "      <th>tax</th>\n",
              "      <th>ptratio</th>\n",
              "      <th>b</th>\n",
              "      <th>lstat</th>\n",
              "      <th>medv</th>\n",
              "    </tr>\n",
              "  </thead>\n",
              "  <tbody>\n",
              "    <tr>\n",
              "      <th>count</th>\n",
              "      <td>506.000000</td>\n",
              "      <td>506.000000</td>\n",
              "      <td>506.000000</td>\n",
              "      <td>506.000000</td>\n",
              "      <td>506.000000</td>\n",
              "      <td>506.000000</td>\n",
              "      <td>506.000000</td>\n",
              "      <td>506.000000</td>\n",
              "      <td>506.000000</td>\n",
              "      <td>506.000000</td>\n",
              "      <td>506.000000</td>\n",
              "      <td>506.000000</td>\n",
              "      <td>506.000000</td>\n",
              "      <td>506.000000</td>\n",
              "    </tr>\n",
              "    <tr>\n",
              "      <th>mean</th>\n",
              "      <td>3.613524</td>\n",
              "      <td>11.363636</td>\n",
              "      <td>11.136779</td>\n",
              "      <td>0.069170</td>\n",
              "      <td>0.554695</td>\n",
              "      <td>6.284634</td>\n",
              "      <td>68.574901</td>\n",
              "      <td>3.795043</td>\n",
              "      <td>9.549407</td>\n",
              "      <td>408.237154</td>\n",
              "      <td>18.455534</td>\n",
              "      <td>356.674032</td>\n",
              "      <td>12.653063</td>\n",
              "      <td>22.532806</td>\n",
              "    </tr>\n",
              "    <tr>\n",
              "      <th>std</th>\n",
              "      <td>8.601545</td>\n",
              "      <td>23.322453</td>\n",
              "      <td>6.860353</td>\n",
              "      <td>0.253994</td>\n",
              "      <td>0.115878</td>\n",
              "      <td>0.702617</td>\n",
              "      <td>28.148861</td>\n",
              "      <td>2.105710</td>\n",
              "      <td>8.707259</td>\n",
              "      <td>168.537116</td>\n",
              "      <td>2.164946</td>\n",
              "      <td>91.294864</td>\n",
              "      <td>7.141062</td>\n",
              "      <td>9.197104</td>\n",
              "    </tr>\n",
              "    <tr>\n",
              "      <th>min</th>\n",
              "      <td>0.006320</td>\n",
              "      <td>0.000000</td>\n",
              "      <td>0.460000</td>\n",
              "      <td>0.000000</td>\n",
              "      <td>0.385000</td>\n",
              "      <td>3.561000</td>\n",
              "      <td>2.900000</td>\n",
              "      <td>1.129600</td>\n",
              "      <td>1.000000</td>\n",
              "      <td>187.000000</td>\n",
              "      <td>12.600000</td>\n",
              "      <td>0.320000</td>\n",
              "      <td>1.730000</td>\n",
              "      <td>5.000000</td>\n",
              "    </tr>\n",
              "    <tr>\n",
              "      <th>25%</th>\n",
              "      <td>0.082045</td>\n",
              "      <td>0.000000</td>\n",
              "      <td>5.190000</td>\n",
              "      <td>0.000000</td>\n",
              "      <td>0.449000</td>\n",
              "      <td>5.885500</td>\n",
              "      <td>45.025000</td>\n",
              "      <td>2.100175</td>\n",
              "      <td>4.000000</td>\n",
              "      <td>279.000000</td>\n",
              "      <td>17.400000</td>\n",
              "      <td>375.377500</td>\n",
              "      <td>6.950000</td>\n",
              "      <td>17.025000</td>\n",
              "    </tr>\n",
              "    <tr>\n",
              "      <th>50%</th>\n",
              "      <td>0.256510</td>\n",
              "      <td>0.000000</td>\n",
              "      <td>9.690000</td>\n",
              "      <td>0.000000</td>\n",
              "      <td>0.538000</td>\n",
              "      <td>6.208500</td>\n",
              "      <td>77.500000</td>\n",
              "      <td>3.207450</td>\n",
              "      <td>5.000000</td>\n",
              "      <td>330.000000</td>\n",
              "      <td>19.050000</td>\n",
              "      <td>391.440000</td>\n",
              "      <td>11.360000</td>\n",
              "      <td>21.200000</td>\n",
              "    </tr>\n",
              "    <tr>\n",
              "      <th>75%</th>\n",
              "      <td>3.677082</td>\n",
              "      <td>12.500000</td>\n",
              "      <td>18.100000</td>\n",
              "      <td>0.000000</td>\n",
              "      <td>0.624000</td>\n",
              "      <td>6.623500</td>\n",
              "      <td>94.075000</td>\n",
              "      <td>5.188425</td>\n",
              "      <td>24.000000</td>\n",
              "      <td>666.000000</td>\n",
              "      <td>20.200000</td>\n",
              "      <td>396.225000</td>\n",
              "      <td>16.955000</td>\n",
              "      <td>25.000000</td>\n",
              "    </tr>\n",
              "    <tr>\n",
              "      <th>max</th>\n",
              "      <td>88.976200</td>\n",
              "      <td>100.000000</td>\n",
              "      <td>27.740000</td>\n",
              "      <td>1.000000</td>\n",
              "      <td>0.871000</td>\n",
              "      <td>8.780000</td>\n",
              "      <td>100.000000</td>\n",
              "      <td>12.126500</td>\n",
              "      <td>24.000000</td>\n",
              "      <td>711.000000</td>\n",
              "      <td>22.000000</td>\n",
              "      <td>396.900000</td>\n",
              "      <td>37.970000</td>\n",
              "      <td>50.000000</td>\n",
              "    </tr>\n",
              "  </tbody>\n",
              "</table>\n",
              "</div>"
            ],
            "text/plain": [
              "             crim          zn       indus  ...           b       lstat        medv\n",
              "count  506.000000  506.000000  506.000000  ...  506.000000  506.000000  506.000000\n",
              "mean     3.613524   11.363636   11.136779  ...  356.674032   12.653063   22.532806\n",
              "std      8.601545   23.322453    6.860353  ...   91.294864    7.141062    9.197104\n",
              "min      0.006320    0.000000    0.460000  ...    0.320000    1.730000    5.000000\n",
              "25%      0.082045    0.000000    5.190000  ...  375.377500    6.950000   17.025000\n",
              "50%      0.256510    0.000000    9.690000  ...  391.440000   11.360000   21.200000\n",
              "75%      3.677082   12.500000   18.100000  ...  396.225000   16.955000   25.000000\n",
              "max     88.976200  100.000000   27.740000  ...  396.900000   37.970000   50.000000\n",
              "\n",
              "[8 rows x 14 columns]"
            ]
          },
          "metadata": {
            "tags": []
          },
          "execution_count": 59
        }
      ]
    },
    {
      "cell_type": "markdown",
      "metadata": {
        "id": "v_OhIZVjolgB"
      },
      "source": [
        "## Detect outliers using IQR"
      ]
    },
    {
      "cell_type": "code",
      "metadata": {
        "colab": {
          "base_uri": "https://localhost:8080/"
        },
        "id": "a1j9K4JNomBf",
        "outputId": "164982a4-5802-4422-d95c-1c27840a763c"
      },
      "source": [
        "Q1 = df.crim.quantile(0.25)\n",
        "Q3 = df.crim.quantile(0.75)\n",
        "Q1, Q3"
      ],
      "execution_count": null,
      "outputs": [
        {
          "output_type": "execute_result",
          "data": {
            "text/plain": [
              "(0.08204499999999999, 3.6770824999999996)"
            ]
          },
          "metadata": {
            "tags": []
          },
          "execution_count": 60
        }
      ]
    },
    {
      "cell_type": "code",
      "metadata": {
        "colab": {
          "base_uri": "https://localhost:8080/"
        },
        "id": "PzMx1IImo4n5",
        "outputId": "a3b3b21c-e2fa-4aa4-b9a3-e8556bc8ecb4"
      },
      "source": [
        "IQR = Q3 - Q1\n",
        "IQR"
      ],
      "execution_count": null,
      "outputs": [
        {
          "output_type": "execute_result",
          "data": {
            "text/plain": [
              "3.5950374999999997"
            ]
          },
          "metadata": {
            "tags": []
          },
          "execution_count": 61
        }
      ]
    },
    {
      "cell_type": "code",
      "metadata": {
        "colab": {
          "base_uri": "https://localhost:8080/"
        },
        "id": "uCGEtFqEo_IB",
        "outputId": "eb5442cb-c02c-4782-ffe1-5faba47c3b8a"
      },
      "source": [
        "lower_limit = Q1 - 1.5*IQR\n",
        "upper_limit = Q3 + 1.5*IQR\n",
        "lower_limit, upper_limit"
      ],
      "execution_count": null,
      "outputs": [
        {
          "output_type": "execute_result",
          "data": {
            "text/plain": [
              "(-5.310511249999999, 9.06963875)"
            ]
          },
          "metadata": {
            "tags": []
          },
          "execution_count": 62
        }
      ]
    },
    {
      "cell_type": "markdown",
      "metadata": {
        "id": "TLBgi62apEGm"
      },
      "source": [
        "**Here are the outliers**"
      ]
    },
    {
      "cell_type": "code",
      "metadata": {
        "colab": {
          "base_uri": "https://localhost:8080/",
          "height": 419
        },
        "id": "8wdkDDeTpEly",
        "outputId": "d281ccae-5d1c-4248-a05d-5673e4bbe2f3"
      },
      "source": [
        "df[(df.crim<lower_limit)|(df.crim>upper_limit)]"
      ],
      "execution_count": null,
      "outputs": [
        {
          "output_type": "execute_result",
          "data": {
            "text/html": [
              "<div>\n",
              "<style scoped>\n",
              "    .dataframe tbody tr th:only-of-type {\n",
              "        vertical-align: middle;\n",
              "    }\n",
              "\n",
              "    .dataframe tbody tr th {\n",
              "        vertical-align: top;\n",
              "    }\n",
              "\n",
              "    .dataframe thead th {\n",
              "        text-align: right;\n",
              "    }\n",
              "</style>\n",
              "<table border=\"1\" class=\"dataframe\">\n",
              "  <thead>\n",
              "    <tr style=\"text-align: right;\">\n",
              "      <th></th>\n",
              "      <th>crim</th>\n",
              "      <th>zn</th>\n",
              "      <th>indus</th>\n",
              "      <th>chas</th>\n",
              "      <th>nox</th>\n",
              "      <th>rm</th>\n",
              "      <th>age</th>\n",
              "      <th>dis</th>\n",
              "      <th>rad</th>\n",
              "      <th>tax</th>\n",
              "      <th>ptratio</th>\n",
              "      <th>b</th>\n",
              "      <th>lstat</th>\n",
              "      <th>medv</th>\n",
              "    </tr>\n",
              "  </thead>\n",
              "  <tbody>\n",
              "    <tr>\n",
              "      <th>367</th>\n",
              "      <td>13.5222</td>\n",
              "      <td>0.0</td>\n",
              "      <td>18.1</td>\n",
              "      <td>0</td>\n",
              "      <td>0.631</td>\n",
              "      <td>3.863</td>\n",
              "      <td>100.0</td>\n",
              "      <td>1.5106</td>\n",
              "      <td>24</td>\n",
              "      <td>666</td>\n",
              "      <td>20.2</td>\n",
              "      <td>131.42</td>\n",
              "      <td>13.33</td>\n",
              "      <td>23.1</td>\n",
              "    </tr>\n",
              "    <tr>\n",
              "      <th>371</th>\n",
              "      <td>9.2323</td>\n",
              "      <td>0.0</td>\n",
              "      <td>18.1</td>\n",
              "      <td>0</td>\n",
              "      <td>0.631</td>\n",
              "      <td>6.216</td>\n",
              "      <td>100.0</td>\n",
              "      <td>1.1691</td>\n",
              "      <td>24</td>\n",
              "      <td>666</td>\n",
              "      <td>20.2</td>\n",
              "      <td>366.15</td>\n",
              "      <td>9.53</td>\n",
              "      <td>50.0</td>\n",
              "    </tr>\n",
              "    <tr>\n",
              "      <th>373</th>\n",
              "      <td>11.1081</td>\n",
              "      <td>0.0</td>\n",
              "      <td>18.1</td>\n",
              "      <td>0</td>\n",
              "      <td>0.668</td>\n",
              "      <td>4.906</td>\n",
              "      <td>100.0</td>\n",
              "      <td>1.1742</td>\n",
              "      <td>24</td>\n",
              "      <td>666</td>\n",
              "      <td>20.2</td>\n",
              "      <td>396.90</td>\n",
              "      <td>34.77</td>\n",
              "      <td>13.8</td>\n",
              "    </tr>\n",
              "    <tr>\n",
              "      <th>374</th>\n",
              "      <td>18.4982</td>\n",
              "      <td>0.0</td>\n",
              "      <td>18.1</td>\n",
              "      <td>0</td>\n",
              "      <td>0.668</td>\n",
              "      <td>4.138</td>\n",
              "      <td>100.0</td>\n",
              "      <td>1.1370</td>\n",
              "      <td>24</td>\n",
              "      <td>666</td>\n",
              "      <td>20.2</td>\n",
              "      <td>396.90</td>\n",
              "      <td>37.97</td>\n",
              "      <td>13.8</td>\n",
              "    </tr>\n",
              "    <tr>\n",
              "      <th>375</th>\n",
              "      <td>19.6091</td>\n",
              "      <td>0.0</td>\n",
              "      <td>18.1</td>\n",
              "      <td>0</td>\n",
              "      <td>0.671</td>\n",
              "      <td>7.313</td>\n",
              "      <td>97.9</td>\n",
              "      <td>1.3163</td>\n",
              "      <td>24</td>\n",
              "      <td>666</td>\n",
              "      <td>20.2</td>\n",
              "      <td>396.90</td>\n",
              "      <td>13.44</td>\n",
              "      <td>15.0</td>\n",
              "    </tr>\n",
              "    <tr>\n",
              "      <th>...</th>\n",
              "      <td>...</td>\n",
              "      <td>...</td>\n",
              "      <td>...</td>\n",
              "      <td>...</td>\n",
              "      <td>...</td>\n",
              "      <td>...</td>\n",
              "      <td>...</td>\n",
              "      <td>...</td>\n",
              "      <td>...</td>\n",
              "      <td>...</td>\n",
              "      <td>...</td>\n",
              "      <td>...</td>\n",
              "      <td>...</td>\n",
              "      <td>...</td>\n",
              "    </tr>\n",
              "    <tr>\n",
              "      <th>468</th>\n",
              "      <td>15.5757</td>\n",
              "      <td>0.0</td>\n",
              "      <td>18.1</td>\n",
              "      <td>0</td>\n",
              "      <td>0.580</td>\n",
              "      <td>5.926</td>\n",
              "      <td>71.0</td>\n",
              "      <td>2.9084</td>\n",
              "      <td>24</td>\n",
              "      <td>666</td>\n",
              "      <td>20.2</td>\n",
              "      <td>368.74</td>\n",
              "      <td>18.13</td>\n",
              "      <td>19.1</td>\n",
              "    </tr>\n",
              "    <tr>\n",
              "      <th>469</th>\n",
              "      <td>13.0751</td>\n",
              "      <td>0.0</td>\n",
              "      <td>18.1</td>\n",
              "      <td>0</td>\n",
              "      <td>0.580</td>\n",
              "      <td>5.713</td>\n",
              "      <td>56.7</td>\n",
              "      <td>2.8237</td>\n",
              "      <td>24</td>\n",
              "      <td>666</td>\n",
              "      <td>20.2</td>\n",
              "      <td>396.90</td>\n",
              "      <td>14.76</td>\n",
              "      <td>20.1</td>\n",
              "    </tr>\n",
              "    <tr>\n",
              "      <th>477</th>\n",
              "      <td>15.0234</td>\n",
              "      <td>0.0</td>\n",
              "      <td>18.1</td>\n",
              "      <td>0</td>\n",
              "      <td>0.614</td>\n",
              "      <td>5.304</td>\n",
              "      <td>97.3</td>\n",
              "      <td>2.1007</td>\n",
              "      <td>24</td>\n",
              "      <td>666</td>\n",
              "      <td>20.2</td>\n",
              "      <td>349.48</td>\n",
              "      <td>24.91</td>\n",
              "      <td>12.0</td>\n",
              "    </tr>\n",
              "    <tr>\n",
              "      <th>478</th>\n",
              "      <td>10.2330</td>\n",
              "      <td>0.0</td>\n",
              "      <td>18.1</td>\n",
              "      <td>0</td>\n",
              "      <td>0.614</td>\n",
              "      <td>6.185</td>\n",
              "      <td>96.7</td>\n",
              "      <td>2.1705</td>\n",
              "      <td>24</td>\n",
              "      <td>666</td>\n",
              "      <td>20.2</td>\n",
              "      <td>379.70</td>\n",
              "      <td>18.03</td>\n",
              "      <td>14.6</td>\n",
              "    </tr>\n",
              "    <tr>\n",
              "      <th>479</th>\n",
              "      <td>14.3337</td>\n",
              "      <td>0.0</td>\n",
              "      <td>18.1</td>\n",
              "      <td>0</td>\n",
              "      <td>0.614</td>\n",
              "      <td>6.229</td>\n",
              "      <td>88.0</td>\n",
              "      <td>1.9512</td>\n",
              "      <td>24</td>\n",
              "      <td>666</td>\n",
              "      <td>20.2</td>\n",
              "      <td>383.32</td>\n",
              "      <td>13.11</td>\n",
              "      <td>21.4</td>\n",
              "    </tr>\n",
              "  </tbody>\n",
              "</table>\n",
              "<p>66 rows × 14 columns</p>\n",
              "</div>"
            ],
            "text/plain": [
              "        crim   zn  indus  chas    nox  ...  tax  ptratio       b  lstat  medv\n",
              "367  13.5222  0.0   18.1     0  0.631  ...  666     20.2  131.42  13.33  23.1\n",
              "371   9.2323  0.0   18.1     0  0.631  ...  666     20.2  366.15   9.53  50.0\n",
              "373  11.1081  0.0   18.1     0  0.668  ...  666     20.2  396.90  34.77  13.8\n",
              "374  18.4982  0.0   18.1     0  0.668  ...  666     20.2  396.90  37.97  13.8\n",
              "375  19.6091  0.0   18.1     0  0.671  ...  666     20.2  396.90  13.44  15.0\n",
              "..       ...  ...    ...   ...    ...  ...  ...      ...     ...    ...   ...\n",
              "468  15.5757  0.0   18.1     0  0.580  ...  666     20.2  368.74  18.13  19.1\n",
              "469  13.0751  0.0   18.1     0  0.580  ...  666     20.2  396.90  14.76  20.1\n",
              "477  15.0234  0.0   18.1     0  0.614  ...  666     20.2  349.48  24.91  12.0\n",
              "478  10.2330  0.0   18.1     0  0.614  ...  666     20.2  379.70  18.03  14.6\n",
              "479  14.3337  0.0   18.1     0  0.614  ...  666     20.2  383.32  13.11  21.4\n",
              "\n",
              "[66 rows x 14 columns]"
            ]
          },
          "metadata": {
            "tags": []
          },
          "execution_count": 63
        }
      ]
    },
    {
      "cell_type": "markdown",
      "metadata": {
        "id": "nXqWtWDapShz"
      },
      "source": [
        "\n",
        "**Remove outliers**\n",
        "\n"
      ]
    },
    {
      "cell_type": "code",
      "metadata": {
        "colab": {
          "base_uri": "https://localhost:8080/",
          "height": 419
        },
        "id": "AyLV3BKbpHUG",
        "outputId": "8c5b545b-5da2-4cc3-ac8b-f2c4501a48d7"
      },
      "source": [
        "df_no_outlier = df[(df.crim>lower_limit)&(df.crim<upper_limit)]\n",
        "df_no_outlier"
      ],
      "execution_count": null,
      "outputs": [
        {
          "output_type": "execute_result",
          "data": {
            "text/html": [
              "<div>\n",
              "<style scoped>\n",
              "    .dataframe tbody tr th:only-of-type {\n",
              "        vertical-align: middle;\n",
              "    }\n",
              "\n",
              "    .dataframe tbody tr th {\n",
              "        vertical-align: top;\n",
              "    }\n",
              "\n",
              "    .dataframe thead th {\n",
              "        text-align: right;\n",
              "    }\n",
              "</style>\n",
              "<table border=\"1\" class=\"dataframe\">\n",
              "  <thead>\n",
              "    <tr style=\"text-align: right;\">\n",
              "      <th></th>\n",
              "      <th>crim</th>\n",
              "      <th>zn</th>\n",
              "      <th>indus</th>\n",
              "      <th>chas</th>\n",
              "      <th>nox</th>\n",
              "      <th>rm</th>\n",
              "      <th>age</th>\n",
              "      <th>dis</th>\n",
              "      <th>rad</th>\n",
              "      <th>tax</th>\n",
              "      <th>ptratio</th>\n",
              "      <th>b</th>\n",
              "      <th>lstat</th>\n",
              "      <th>medv</th>\n",
              "    </tr>\n",
              "  </thead>\n",
              "  <tbody>\n",
              "    <tr>\n",
              "      <th>0</th>\n",
              "      <td>0.00632</td>\n",
              "      <td>18.0</td>\n",
              "      <td>2.31</td>\n",
              "      <td>0</td>\n",
              "      <td>0.538</td>\n",
              "      <td>6.575</td>\n",
              "      <td>65.2</td>\n",
              "      <td>4.0900</td>\n",
              "      <td>1</td>\n",
              "      <td>296</td>\n",
              "      <td>15.3</td>\n",
              "      <td>396.90</td>\n",
              "      <td>4.98</td>\n",
              "      <td>24.0</td>\n",
              "    </tr>\n",
              "    <tr>\n",
              "      <th>1</th>\n",
              "      <td>0.02731</td>\n",
              "      <td>0.0</td>\n",
              "      <td>7.07</td>\n",
              "      <td>0</td>\n",
              "      <td>0.469</td>\n",
              "      <td>6.421</td>\n",
              "      <td>78.9</td>\n",
              "      <td>4.9671</td>\n",
              "      <td>2</td>\n",
              "      <td>242</td>\n",
              "      <td>17.8</td>\n",
              "      <td>396.90</td>\n",
              "      <td>9.14</td>\n",
              "      <td>21.6</td>\n",
              "    </tr>\n",
              "    <tr>\n",
              "      <th>2</th>\n",
              "      <td>0.02729</td>\n",
              "      <td>0.0</td>\n",
              "      <td>7.07</td>\n",
              "      <td>0</td>\n",
              "      <td>0.469</td>\n",
              "      <td>7.185</td>\n",
              "      <td>61.1</td>\n",
              "      <td>4.9671</td>\n",
              "      <td>2</td>\n",
              "      <td>242</td>\n",
              "      <td>17.8</td>\n",
              "      <td>392.83</td>\n",
              "      <td>4.03</td>\n",
              "      <td>34.7</td>\n",
              "    </tr>\n",
              "    <tr>\n",
              "      <th>3</th>\n",
              "      <td>0.03237</td>\n",
              "      <td>0.0</td>\n",
              "      <td>2.18</td>\n",
              "      <td>0</td>\n",
              "      <td>0.458</td>\n",
              "      <td>6.998</td>\n",
              "      <td>45.8</td>\n",
              "      <td>6.0622</td>\n",
              "      <td>3</td>\n",
              "      <td>222</td>\n",
              "      <td>18.7</td>\n",
              "      <td>394.63</td>\n",
              "      <td>2.94</td>\n",
              "      <td>33.4</td>\n",
              "    </tr>\n",
              "    <tr>\n",
              "      <th>4</th>\n",
              "      <td>0.06905</td>\n",
              "      <td>0.0</td>\n",
              "      <td>2.18</td>\n",
              "      <td>0</td>\n",
              "      <td>0.458</td>\n",
              "      <td>7.147</td>\n",
              "      <td>54.2</td>\n",
              "      <td>6.0622</td>\n",
              "      <td>3</td>\n",
              "      <td>222</td>\n",
              "      <td>18.7</td>\n",
              "      <td>396.90</td>\n",
              "      <td>5.33</td>\n",
              "      <td>36.2</td>\n",
              "    </tr>\n",
              "    <tr>\n",
              "      <th>...</th>\n",
              "      <td>...</td>\n",
              "      <td>...</td>\n",
              "      <td>...</td>\n",
              "      <td>...</td>\n",
              "      <td>...</td>\n",
              "      <td>...</td>\n",
              "      <td>...</td>\n",
              "      <td>...</td>\n",
              "      <td>...</td>\n",
              "      <td>...</td>\n",
              "      <td>...</td>\n",
              "      <td>...</td>\n",
              "      <td>...</td>\n",
              "      <td>...</td>\n",
              "    </tr>\n",
              "    <tr>\n",
              "      <th>501</th>\n",
              "      <td>0.06263</td>\n",
              "      <td>0.0</td>\n",
              "      <td>11.93</td>\n",
              "      <td>0</td>\n",
              "      <td>0.573</td>\n",
              "      <td>6.593</td>\n",
              "      <td>69.1</td>\n",
              "      <td>2.4786</td>\n",
              "      <td>1</td>\n",
              "      <td>273</td>\n",
              "      <td>21.0</td>\n",
              "      <td>391.99</td>\n",
              "      <td>9.67</td>\n",
              "      <td>22.4</td>\n",
              "    </tr>\n",
              "    <tr>\n",
              "      <th>502</th>\n",
              "      <td>0.04527</td>\n",
              "      <td>0.0</td>\n",
              "      <td>11.93</td>\n",
              "      <td>0</td>\n",
              "      <td>0.573</td>\n",
              "      <td>6.120</td>\n",
              "      <td>76.7</td>\n",
              "      <td>2.2875</td>\n",
              "      <td>1</td>\n",
              "      <td>273</td>\n",
              "      <td>21.0</td>\n",
              "      <td>396.90</td>\n",
              "      <td>9.08</td>\n",
              "      <td>20.6</td>\n",
              "    </tr>\n",
              "    <tr>\n",
              "      <th>503</th>\n",
              "      <td>0.06076</td>\n",
              "      <td>0.0</td>\n",
              "      <td>11.93</td>\n",
              "      <td>0</td>\n",
              "      <td>0.573</td>\n",
              "      <td>6.976</td>\n",
              "      <td>91.0</td>\n",
              "      <td>2.1675</td>\n",
              "      <td>1</td>\n",
              "      <td>273</td>\n",
              "      <td>21.0</td>\n",
              "      <td>396.90</td>\n",
              "      <td>5.64</td>\n",
              "      <td>23.9</td>\n",
              "    </tr>\n",
              "    <tr>\n",
              "      <th>504</th>\n",
              "      <td>0.10959</td>\n",
              "      <td>0.0</td>\n",
              "      <td>11.93</td>\n",
              "      <td>0</td>\n",
              "      <td>0.573</td>\n",
              "      <td>6.794</td>\n",
              "      <td>89.3</td>\n",
              "      <td>2.3889</td>\n",
              "      <td>1</td>\n",
              "      <td>273</td>\n",
              "      <td>21.0</td>\n",
              "      <td>393.45</td>\n",
              "      <td>6.48</td>\n",
              "      <td>22.0</td>\n",
              "    </tr>\n",
              "    <tr>\n",
              "      <th>505</th>\n",
              "      <td>0.04741</td>\n",
              "      <td>0.0</td>\n",
              "      <td>11.93</td>\n",
              "      <td>0</td>\n",
              "      <td>0.573</td>\n",
              "      <td>6.030</td>\n",
              "      <td>80.8</td>\n",
              "      <td>2.5050</td>\n",
              "      <td>1</td>\n",
              "      <td>273</td>\n",
              "      <td>21.0</td>\n",
              "      <td>396.90</td>\n",
              "      <td>7.88</td>\n",
              "      <td>11.9</td>\n",
              "    </tr>\n",
              "  </tbody>\n",
              "</table>\n",
              "<p>440 rows × 14 columns</p>\n",
              "</div>"
            ],
            "text/plain": [
              "        crim    zn  indus  chas    nox  ...  tax  ptratio       b  lstat  medv\n",
              "0    0.00632  18.0   2.31     0  0.538  ...  296     15.3  396.90   4.98  24.0\n",
              "1    0.02731   0.0   7.07     0  0.469  ...  242     17.8  396.90   9.14  21.6\n",
              "2    0.02729   0.0   7.07     0  0.469  ...  242     17.8  392.83   4.03  34.7\n",
              "3    0.03237   0.0   2.18     0  0.458  ...  222     18.7  394.63   2.94  33.4\n",
              "4    0.06905   0.0   2.18     0  0.458  ...  222     18.7  396.90   5.33  36.2\n",
              "..       ...   ...    ...   ...    ...  ...  ...      ...     ...    ...   ...\n",
              "501  0.06263   0.0  11.93     0  0.573  ...  273     21.0  391.99   9.67  22.4\n",
              "502  0.04527   0.0  11.93     0  0.573  ...  273     21.0  396.90   9.08  20.6\n",
              "503  0.06076   0.0  11.93     0  0.573  ...  273     21.0  396.90   5.64  23.9\n",
              "504  0.10959   0.0  11.93     0  0.573  ...  273     21.0  393.45   6.48  22.0\n",
              "505  0.04741   0.0  11.93     0  0.573  ...  273     21.0  396.90   7.88  11.9\n",
              "\n",
              "[440 rows x 14 columns]"
            ]
          },
          "metadata": {
            "tags": []
          },
          "execution_count": 64
        }
      ]
    },
    {
      "cell_type": "code",
      "metadata": {
        "colab": {
          "base_uri": "https://localhost:8080/"
        },
        "id": "bVLTd8CDpYjI",
        "outputId": "4738778a-f368-436c-c86f-dc561576013e"
      },
      "source": [
        "df_no_outlier.shape"
      ],
      "execution_count": null,
      "outputs": [
        {
          "output_type": "execute_result",
          "data": {
            "text/plain": [
              "(440, 14)"
            ]
          },
          "metadata": {
            "tags": []
          },
          "execution_count": 65
        }
      ]
    },
    {
      "cell_type": "code",
      "metadata": {
        "colab": {
          "base_uri": "https://localhost:8080/"
        },
        "id": "8nguIILSp-Ie",
        "outputId": "d9a7dc5d-abd3-46b8-ff43-5cadaae0f2ed"
      },
      "source": [
        "df.shape"
      ],
      "execution_count": null,
      "outputs": [
        {
          "output_type": "execute_result",
          "data": {
            "text/plain": [
              "(506, 14)"
            ]
          },
          "metadata": {
            "tags": []
          },
          "execution_count": 66
        }
      ]
    },
    {
      "cell_type": "code",
      "metadata": {
        "id": "iiLQ-0HsqFoh"
      },
      "source": [
        "x = df_no_outliers.iloc[:,0:13]\n",
        "y = df_no_outliers[\"medv\"]"
      ],
      "execution_count": null,
      "outputs": []
    },
    {
      "cell_type": "code",
      "metadata": {
        "id": "V5PIqq6VqIhp"
      },
      "source": [
        "from sklearn.model_selection import train_test_split\n",
        "#testing data size is of 33% of entire data\n",
        "x_train, x_test, y_train, y_test =train_test_split(x,y, test_size = 0.33, random_state =10)"
      ],
      "execution_count": null,
      "outputs": []
    },
    {
      "cell_type": "code",
      "metadata": {
        "id": "-CPsVybKqKaE",
        "colab": {
          "base_uri": "https://localhost:8080/"
        },
        "outputId": "f03f45a7-b84a-48e5-85c7-cdfd024ad932"
      },
      "source": [
        "x_train.shape"
      ],
      "execution_count": null,
      "outputs": [
        {
          "output_type": "execute_result",
          "data": {
            "text/plain": [
              "(333, 13)"
            ]
          },
          "metadata": {
            "tags": []
          },
          "execution_count": 69
        }
      ]
    },
    {
      "cell_type": "code",
      "metadata": {
        "id": "bT4hhCqxqMpn"
      },
      "source": [
        "from sklearn.linear_model import LinearRegression\n",
        "#fitting our model to train and test\n",
        "lm = LinearRegression()\n",
        "model = lm.fit(x_train,y_train)"
      ],
      "execution_count": null,
      "outputs": []
    },
    {
      "cell_type": "code",
      "metadata": {
        "id": "fx2V6hMIqO8V",
        "colab": {
          "base_uri": "https://localhost:8080/"
        },
        "outputId": "6e45fa37-2cb5-46b3-853f-c31029d59ead"
      },
      "source": [
        "#Equation coefficient and Intercept\n",
        "print('Coefficient: \\n', model.coef_)\n",
        "print('Intercept: \\n', model.intercept_)"
      ],
      "execution_count": null,
      "outputs": [
        {
          "output_type": "stream",
          "text": [
            "Coefficient: \n",
            " [-1.05849016e-02  5.48053476e-02 -1.20240484e-02  3.59928414e+00\n",
            " -1.69448165e+01  3.81234740e+00  8.89971606e-03 -1.43895749e+00\n",
            "  2.90350444e-01 -1.08989409e-02 -8.73036232e-01  1.50581315e-02\n",
            " -5.33812593e-01]\n",
            "Intercept: \n",
            " 31.67903572580051\n"
          ],
          "name": "stdout"
        }
      ]
    },
    {
      "cell_type": "code",
      "metadata": {
        "id": "bnytlMlSqQnz",
        "colab": {
          "base_uri": "https://localhost:8080/"
        },
        "outputId": "1ab96678-a938-41a7-d4ab-0d05c7ccef08"
      },
      "source": [
        "pred_y = lm.predict(x_test)\n",
        "print(y_test)"
      ],
      "execution_count": null,
      "outputs": [
        {
          "output_type": "stream",
          "text": [
            "389    11.5\n",
            "249    26.2\n",
            "400     5.6\n",
            "305    28.4\n",
            "146    15.6\n",
            "       ... \n",
            "325    24.6\n",
            "466    19.0\n",
            "276    33.2\n",
            "113    18.7\n",
            "193    31.1\n",
            "Name: medv, Length: 165, dtype: float64\n"
          ],
          "name": "stdout"
        }
      ]
    },
    {
      "cell_type": "code",
      "metadata": {
        "id": "ukZBwakLqQvO",
        "colab": {
          "base_uri": "https://localhost:8080/",
          "height": 296
        },
        "outputId": "8938d7eb-a315-4498-d403-d76ea6ba01aa"
      },
      "source": [
        "plt.scatter(y_test,pred_y)\n",
        "plt.xlabel('Y Test')\n",
        "plt.ylabel('Predicted Y')"
      ],
      "execution_count": null,
      "outputs": [
        {
          "output_type": "execute_result",
          "data": {
            "text/plain": [
              "Text(0, 0.5, 'Predicted Y')"
            ]
          },
          "metadata": {
            "tags": []
          },
          "execution_count": 74
        },
        {
          "output_type": "display_data",
          "data": {
            "image/png": "[encoded data removed]",
            "text/plain": [
              "<Figure size 432x288 with 1 Axes>"
            ]
          },
          "metadata": {
            "tags": [],
            "needs_background": "light"
          }
        }
      ]
    },
    {
      "cell_type": "code",
      "metadata": {
        "id": "qZHeWX4RqcpW",
        "colab": {
          "base_uri": "https://localhost:8080/"
        },
        "outputId": "336b9e86-91ad-4449-a527-4b1f6b8b681d"
      },
      "source": [
        "from sklearn.metrics import mean_squared_error\n",
        "# evaluate predictions\n",
        "mse = mean_squared_error(y_test,pred_y)\n",
        "print('MSE: %.3f' % mse)"
      ],
      "execution_count": null,
      "outputs": [
        {
          "output_type": "stream",
          "text": [
            "MSE: 18.603\n"
          ],
          "name": "stdout"
        }
      ]
    },
    {
      "cell_type": "code",
      "metadata": {
        "id": "CXJHh4GVq9gg",
        "colab": {
          "base_uri": "https://localhost:8080/",
          "height": 282
        },
        "outputId": "d807352e-0377-4844-f038-bce6ee051570"
      },
      "source": [
        "#NORMALITY if ERROR\n",
        "resid = y_test - pred_y\n",
        "resid = pd.Series(resid)\n",
        "plt.scatter(pred_y,resid)\n",
        "plt.hlines(0,4,40) #no pattersn obbserver \n",
        "#in case of any issues we may have to look for log Transformation etc..."
      ],
      "execution_count": null,
      "outputs": [
        {
          "output_type": "execute_result",
          "data": {
            "text/plain": [
              "<matplotlib.collections.LineCollection at 0x7f0b425cd550>"
            ]
          },
          "metadata": {
            "tags": []
          },
          "execution_count": 76
        },
        {
          "output_type": "display_data",
          "data": {
            "image/png": "[encoded data removed]",
            "text/plain": [
              "<Figure size 432x288 with 1 Axes>"
            ]
          },
          "metadata": {
            "tags": [],
            "needs_background": "light"
          }
        }
      ]
    },
    {
      "cell_type": "code",
      "metadata": {
        "id": "IT0cxsTtrBh0",
        "colab": {
          "base_uri": "https://localhost:8080/",
          "height": 282
        },
        "outputId": "deea90e3-9f48-41e3-cd97-873337bf49e0"
      },
      "source": [
        "#independence of ERROS\n",
        "plt.scatter(resid.index,resid.values)\n",
        "plt.hlines(0,0,500)\n",
        "#again no appearent patteren , so our moel doing fine"
      ],
      "execution_count": null,
      "outputs": [
        {
          "output_type": "execute_result",
          "data": {
            "text/plain": [
              "<matplotlib.collections.LineCollection at 0x7f0b42574b50>"
            ]
          },
          "metadata": {
            "tags": []
          },
          "execution_count": 77
        },
        {
          "output_type": "display_data",
          "data": {
            "image/png": "[encoded data removed]",
            "text/plain": [
              "<Figure size 432x288 with 1 Axes>"
            ]
          },
          "metadata": {
            "tags": [],
            "needs_background": "light"
          }
        }
      ]
    },
    {
      "cell_type": "code",
      "metadata": {
        "id": "41TDJLwjrF1V",
        "colab": {
          "base_uri": "https://localhost:8080/",
          "height": 282
        },
        "outputId": "29dbbe89-c1bf-4c7d-c85e-036dd95d87ba"
      },
      "source": [
        "plt.scatter(pred_y,resid)"
      ],
      "execution_count": null,
      "outputs": [
        {
          "output_type": "execute_result",
          "data": {
            "text/plain": [
              "<matplotlib.collections.PathCollection at 0x7f0b424dfb10>"
            ]
          },
          "metadata": {
            "tags": []
          },
          "execution_count": 78
        },
        {
          "output_type": "display_data",
          "data": {
            "image/png": "[encoded data removed]",
            "text/plain": [
              "<Figure size 432x288 with 1 Axes>"
            ]
          },
          "metadata": {
            "tags": [],
            "needs_background": "light"
          }
        }
      ]
    }
  ]
}